{
  "nbformat": 4,
  "nbformat_minor": 0,
  "metadata": {
    "hide_input": false,
    "kernelspec": {
      "display_name": "Python 3",
      "language": "python",
      "name": "python3"
    },
    "language_info": {
      "codemirror_mode": {
        "name": "ipython",
        "version": 3
      },
      "file_extension": ".py",
      "mimetype": "text/x-python",
      "name": "python",
      "nbconvert_exporter": "python",
      "pygments_lexer": "ipython3",
      "version": "3.8.5"
    },
    "toc": {
      "base_numbering": 1,
      "nav_menu": {},
      "number_sections": true,
      "sideBar": true,
      "skip_h1_title": false,
      "title_cell": "Table of Contents",
      "title_sidebar": "Contents",
      "toc_cell": false,
      "toc_position": {},
      "toc_section_display": true,
      "toc_window_display": false
    },
    "varInspector": {
      "cols": {
        "lenName": 16,
        "lenType": 16,
        "lenVar": 40
      },
      "kernels_config": {
        "python": {
          "delete_cmd_postfix": "",
          "delete_cmd_prefix": "del ",
          "library": "var_list.py",
          "varRefreshCmd": "print(var_dic_list())"
        },
        "r": {
          "delete_cmd_postfix": ") ",
          "delete_cmd_prefix": "rm(",
          "library": "var_list.r",
          "varRefreshCmd": "cat(var_dic_list()) "
        }
      },
      "types_to_exclude": [
        "module",
        "function",
        "builtin_function_or_method",
        "instance",
        "_Feature"
      ],
      "window_display": false
    },
    "colab": {
      "name": "13_geopandas.ipynb",
      "provenance": [],
      "include_colab_link": true
    }
  },
  "cells": [
    {
      "cell_type": "markdown",
      "metadata": {
        "id": "view-in-github",
        "colab_type": "text"
      },
      "source": [
        "<a href=\"https://colab.research.google.com/github/ErisonBarros/bookpython_ufpe/blob/master/13_geopandas.ipynb\" target=\"_parent\"><img src=\"https://colab.research.google.com/assets/colab-badge.svg\" alt=\"Open In Colab\"/></a>"
      ]
    },
    {
      "cell_type": "markdown",
      "metadata": {
        "id": "ippdhTAVbFXj"
      },
      "source": [
        "[![image](https://colab.research.google.com/assets/colab-badge.svg)](https://githubtocolab.com/giswqs/leafmap/blob/master/examples/notebooks/13_geopandas.ipynb)\n",
        "[![image](https://binder.pangeo.io/badge_logo.svg)](https://gishub.org/leafmap-pangeo)\n",
        "\n",
        "**Adding a GeoPandas GeoDataFrame to the map with a single line of code**\n",
        "\n",
        "Uncomment the following line to install [leafmap](https://leafmap.org) if needed. You can also use conda to create a new environment to install geopandas and leafmap.\n",
        "\n",
        "```\n",
        "conda create geo -n python=3.8\n",
        "conda activate geo\n",
        "conda install geopandas\n",
        "conda install mamba -c conda-forge\n",
        "mamba install leafmap -c conda-forge\n",
        "```"
      ]
    },
    {
      "cell_type": "code",
      "metadata": {
        "id": "XDXpZ_eEbFXq"
      },
      "source": [
        "# !pip install geopandas\n",
        "# !pip install leafmap"
      ],
      "execution_count": null,
      "outputs": []
    },
    {
      "cell_type": "code",
      "metadata": {
        "id": "Yg_uOEPhbFXt"
      },
      "source": [
        "import leafmap\n",
        "import geopandas as gpd"
      ],
      "execution_count": null,
      "outputs": []
    },
    {
      "cell_type": "code",
      "metadata": {
        "id": "MI51kUkhbFXu"
      },
      "source": [
        "# leafmap.update_package()"
      ],
      "execution_count": null,
      "outputs": []
    },
    {
      "cell_type": "markdown",
      "metadata": {
        "id": "b7I_AqrTbFXv"
      },
      "source": [
        "Use GeoPandas to read a GeoJSON from an HTTP URL and return it as a GeoDataFrame.\n",
        "\n",
        "Sample data: https://github.com/giswqs/leafmap/raw/master/examples/data/cable-geo.geojson"
      ]
    },
    {
      "cell_type": "code",
      "metadata": {
        "id": "czPDOciXbFXw"
      },
      "source": [
        "gdf = gpd.read_file(\"https://github.com/giswqs/leafmap/raw/master/examples/data/cable-geo.geojson\")"
      ],
      "execution_count": null,
      "outputs": []
    },
    {
      "cell_type": "markdown",
      "metadata": {
        "id": "94dnwzVgbFXx"
      },
      "source": [
        "Add a GeoDataFrame to the map."
      ]
    },
    {
      "cell_type": "code",
      "metadata": {
        "scrolled": false,
        "id": "rHuDobOlbFXy"
      },
      "source": [
        "m = leafmap.Map()\n",
        "m.add_gdf(gdf, layer_name=\"Cable lines\")\n",
        "m"
      ],
      "execution_count": null,
      "outputs": []
    },
    {
      "cell_type": "markdown",
      "metadata": {
        "id": "S6gGYg7HbFXz"
      },
      "source": [
        "The following example requires the ipyleaflet plotting backend.  "
      ]
    },
    {
      "cell_type": "code",
      "metadata": {
        "id": "hAFwBoMGbFX0"
      },
      "source": [
        "import leafmap.leafmap as leafmap  #for ipyleaflet only"
      ],
      "execution_count": null,
      "outputs": []
    },
    {
      "cell_type": "markdown",
      "metadata": {
        "id": "fFWHtX40bFX1"
      },
      "source": [
        "Read the GeoPandas sample dataset as a GeoDataFrame."
      ]
    },
    {
      "cell_type": "code",
      "metadata": {
        "id": "6oeipfjobFX1"
      },
      "source": [
        "path_to_data = gpd.datasets.get_path(\"nybb\")\n",
        "gdf = gpd.read_file(path_to_data)\n",
        "gdf"
      ],
      "execution_count": null,
      "outputs": []
    },
    {
      "cell_type": "markdown",
      "metadata": {
        "id": "N5Z1DvKibFX2"
      },
      "source": [
        "Convert the GeoDataFrame to GeoJSON. Users can then use `add_geojson()` to add the GeoJSON to the map. Alternatively, users can directly use the `add_gdf()` function to add a GeoDataFrame to the map. Note you when hovering the mouse over the layer, an information box is shown at the lower right corner of the map. This feature is only available for the ipyleaflet plotting backend."
      ]
    },
    {
      "cell_type": "code",
      "metadata": {
        "scrolled": false,
        "id": "UzV_KC53bFX3"
      },
      "source": [
        "geojson = leafmap.gdf_to_geojson(gdf, epsg=\"4326\")\n",
        "# geojson"
      ],
      "execution_count": null,
      "outputs": []
    },
    {
      "cell_type": "markdown",
      "metadata": {
        "id": "6BMgyOabbFX3"
      },
      "source": [
        "One can provide a list of colors (`fill_colors`) to randomly fill the polygons."
      ]
    },
    {
      "cell_type": "code",
      "metadata": {
        "scrolled": false,
        "id": "9I6FJ79ZbFX4"
      },
      "source": [
        "m = leafmap.Map()\n",
        "m.add_gdf(gdf, layer_name=\"New York boroughs\", fill_colors=[\"red\", \"green\", \"blue\"])\n",
        "m"
      ],
      "execution_count": null,
      "outputs": []
    },
    {
      "cell_type": "markdown",
      "metadata": {
        "id": "hcuDIirYbFX5"
      },
      "source": [
        "![](https://i.imgur.com/lfAkjdt.gif)"
      ]
    }
  ]
}