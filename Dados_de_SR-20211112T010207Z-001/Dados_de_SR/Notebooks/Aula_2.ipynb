{
  "nbformat": 4,
  "nbformat_minor": 0,
  "metadata": {
    "colab": {
      "name": "Aula_2.ipynb",
      "provenance": [],
      "collapsed_sections": [
        "lBElxiX0EMKB",
        "GYw317ukETSz",
        "C8_Y2FL3EBNX",
        "9imi00cfD7Pb",
        "_owgrgdqDhCB",
        "SY8ynJ8UDw71"
      ]
    },
    "kernelspec": {
      "name": "python3",
      "display_name": "Python 3"
    },
    "language_info": {
      "name": "python"
    }
  },
  "cells": [
    {
      "cell_type": "markdown",
      "metadata": {
        "id": "_LFbL28oEiKZ"
      },
      "source": [
        "**Módulo básico de leitura e visualização de imagens**📡"
      ]
    },
    {
      "cell_type": "markdown",
      "metadata": {
        "id": "lBElxiX0EMKB"
      },
      "source": [
        "# Extraindo dados"
      ]
    },
    {
      "cell_type": "code",
      "metadata": {
        "colab": {
          "base_uri": "https://localhost:8080/"
        },
        "id": "vUZisMovQK-X",
        "outputId": "03cb97ef-98e5-43bf-d0bf-b8507f82a294"
      },
      "source": [
        "! unzip /content/Dados_de_SR-20211110T142824Z-001.zip"
      ],
      "execution_count": null,
      "outputs": [
        {
          "output_type": "stream",
          "name": "stdout",
          "text": [
            "Archive:  /content/Dados_de_SR-20211110T142824Z-001.zip\n",
            "replace Dados de SR/L71221071_07120010720_DN_5.tif? [y]es, [n]o, [A]ll, [N]one, [r]ename: A\n",
            "  inflating: Dados de SR/L71221071_07120010720_DN_5.tif  \n",
            "  inflating: Dados de SR/L71221071_07120010720_DN_1.tif  \n",
            "  inflating: Dados de SR/L71221071_07120010720_DN_2.tif  \n",
            "  inflating: Dados de SR/L71221071_07120010720_DN_4.tif  \n",
            "  inflating: Dados de SR/L71221071_07120010720_DN_3.tif  \n",
            "  inflating: Dados de SR/L71221071_07120010720_DN_7.tif  \n"
          ]
        }
      ]
    },
    {
      "cell_type": "markdown",
      "metadata": {
        "id": "GYw317ukETSz"
      },
      "source": [
        "# Instalando libs não nativas do Colab"
      ]
    },
    {
      "cell_type": "code",
      "metadata": {
        "colab": {
          "base_uri": "https://localhost:8080/"
        },
        "id": "h6YCOW6gNBEP",
        "outputId": "cc59d51e-0af5-4677-eb44-91616d348d2a"
      },
      "source": [
        "!pip install spectral\n",
        "!pip install rasterio\n",
        "!pip install earthpy"
      ],
      "execution_count": null,
      "outputs": [
        {
          "output_type": "stream",
          "name": "stdout",
          "text": [
            "Requirement already satisfied: spectral in /usr/local/lib/python3.7/dist-packages (0.22.4)\n",
            "Requirement already satisfied: numpy in /usr/local/lib/python3.7/dist-packages (from spectral) (1.19.5)\n",
            "Requirement already satisfied: rasterio in /usr/local/lib/python3.7/dist-packages (1.2.10)\n",
            "Requirement already satisfied: certifi in /usr/local/lib/python3.7/dist-packages (from rasterio) (2021.10.8)\n",
            "Requirement already satisfied: numpy in /usr/local/lib/python3.7/dist-packages (from rasterio) (1.19.5)\n",
            "Requirement already satisfied: affine in /usr/local/lib/python3.7/dist-packages (from rasterio) (2.3.0)\n",
            "Requirement already satisfied: snuggs>=1.4.1 in /usr/local/lib/python3.7/dist-packages (from rasterio) (1.4.7)\n",
            "Requirement already satisfied: attrs in /usr/local/lib/python3.7/dist-packages (from rasterio) (21.2.0)\n",
            "Requirement already satisfied: setuptools in /usr/local/lib/python3.7/dist-packages (from rasterio) (57.4.0)\n",
            "Requirement already satisfied: cligj>=0.5 in /usr/local/lib/python3.7/dist-packages (from rasterio) (0.7.2)\n",
            "Requirement already satisfied: click-plugins in /usr/local/lib/python3.7/dist-packages (from rasterio) (1.1.1)\n",
            "Requirement already satisfied: click>=4.0 in /usr/local/lib/python3.7/dist-packages (from rasterio) (7.1.2)\n",
            "Requirement already satisfied: pyparsing>=2.1.6 in /usr/local/lib/python3.7/dist-packages (from snuggs>=1.4.1->rasterio) (2.4.7)\n",
            "Requirement already satisfied: earthpy in /usr/local/lib/python3.7/dist-packages (0.9.4)\n",
            "Requirement already satisfied: geopandas in /usr/local/lib/python3.7/dist-packages (from earthpy) (0.10.2)\n",
            "Requirement already satisfied: requests in /usr/local/lib/python3.7/dist-packages (from earthpy) (2.23.0)\n",
            "Requirement already satisfied: numpy>=1.14.0 in /usr/local/lib/python3.7/dist-packages (from earthpy) (1.19.5)\n",
            "Requirement already satisfied: matplotlib>=2.0.0 in /usr/local/lib/python3.7/dist-packages (from earthpy) (3.2.2)\n",
            "Requirement already satisfied: scikit-image in /usr/local/lib/python3.7/dist-packages (from earthpy) (0.16.2)\n",
            "Requirement already satisfied: rasterio in /usr/local/lib/python3.7/dist-packages (from earthpy) (1.2.10)\n",
            "Requirement already satisfied: kiwisolver>=1.0.1 in /usr/local/lib/python3.7/dist-packages (from matplotlib>=2.0.0->earthpy) (1.3.2)\n",
            "Requirement already satisfied: python-dateutil>=2.1 in /usr/local/lib/python3.7/dist-packages (from matplotlib>=2.0.0->earthpy) (2.8.2)\n",
            "Requirement already satisfied: cycler>=0.10 in /usr/local/lib/python3.7/dist-packages (from matplotlib>=2.0.0->earthpy) (0.11.0)\n",
            "Requirement already satisfied: pyparsing!=2.0.4,!=2.1.2,!=2.1.6,>=2.0.1 in /usr/local/lib/python3.7/dist-packages (from matplotlib>=2.0.0->earthpy) (2.4.7)\n",
            "Requirement already satisfied: six>=1.5 in /usr/local/lib/python3.7/dist-packages (from python-dateutil>=2.1->matplotlib>=2.0.0->earthpy) (1.15.0)\n",
            "Requirement already satisfied: fiona>=1.8 in /usr/local/lib/python3.7/dist-packages (from geopandas->earthpy) (1.8.20)\n",
            "Requirement already satisfied: pyproj>=2.2.0 in /usr/local/lib/python3.7/dist-packages (from geopandas->earthpy) (3.2.1)\n",
            "Requirement already satisfied: shapely>=1.6 in /usr/local/lib/python3.7/dist-packages (from geopandas->earthpy) (1.8.0)\n",
            "Requirement already satisfied: pandas>=0.25.0 in /usr/local/lib/python3.7/dist-packages (from geopandas->earthpy) (1.1.5)\n",
            "Requirement already satisfied: click-plugins>=1.0 in /usr/local/lib/python3.7/dist-packages (from fiona>=1.8->geopandas->earthpy) (1.1.1)\n",
            "Requirement already satisfied: cligj>=0.5 in /usr/local/lib/python3.7/dist-packages (from fiona>=1.8->geopandas->earthpy) (0.7.2)\n",
            "Requirement already satisfied: attrs>=17 in /usr/local/lib/python3.7/dist-packages (from fiona>=1.8->geopandas->earthpy) (21.2.0)\n",
            "Requirement already satisfied: setuptools in /usr/local/lib/python3.7/dist-packages (from fiona>=1.8->geopandas->earthpy) (57.4.0)\n",
            "Requirement already satisfied: certifi in /usr/local/lib/python3.7/dist-packages (from fiona>=1.8->geopandas->earthpy) (2021.10.8)\n",
            "Requirement already satisfied: click>=4.0 in /usr/local/lib/python3.7/dist-packages (from fiona>=1.8->geopandas->earthpy) (7.1.2)\n",
            "Requirement already satisfied: munch in /usr/local/lib/python3.7/dist-packages (from fiona>=1.8->geopandas->earthpy) (2.5.0)\n",
            "Requirement already satisfied: pytz>=2017.2 in /usr/local/lib/python3.7/dist-packages (from pandas>=0.25.0->geopandas->earthpy) (2018.9)\n",
            "Requirement already satisfied: affine in /usr/local/lib/python3.7/dist-packages (from rasterio->earthpy) (2.3.0)\n",
            "Requirement already satisfied: snuggs>=1.4.1 in /usr/local/lib/python3.7/dist-packages (from rasterio->earthpy) (1.4.7)\n",
            "Requirement already satisfied: urllib3!=1.25.0,!=1.25.1,<1.26,>=1.21.1 in /usr/local/lib/python3.7/dist-packages (from requests->earthpy) (1.24.3)\n",
            "Requirement already satisfied: chardet<4,>=3.0.2 in /usr/local/lib/python3.7/dist-packages (from requests->earthpy) (3.0.4)\n",
            "Requirement already satisfied: idna<3,>=2.5 in /usr/local/lib/python3.7/dist-packages (from requests->earthpy) (2.10)\n",
            "Requirement already satisfied: PyWavelets>=0.4.0 in /usr/local/lib/python3.7/dist-packages (from scikit-image->earthpy) (1.1.1)\n",
            "Requirement already satisfied: scipy>=0.19.0 in /usr/local/lib/python3.7/dist-packages (from scikit-image->earthpy) (1.4.1)\n",
            "Requirement already satisfied: networkx>=2.0 in /usr/local/lib/python3.7/dist-packages (from scikit-image->earthpy) (2.6.3)\n",
            "Requirement already satisfied: pillow>=4.3.0 in /usr/local/lib/python3.7/dist-packages (from scikit-image->earthpy) (7.1.2)\n",
            "Requirement already satisfied: imageio>=2.3.0 in /usr/local/lib/python3.7/dist-packages (from scikit-image->earthpy) (2.4.1)\n"
          ]
        }
      ]
    },
    {
      "cell_type": "markdown",
      "metadata": {
        "id": "C8_Y2FL3EBNX"
      },
      "source": [
        "# Tifffile"
      ]
    },
    {
      "cell_type": "code",
      "metadata": {
        "id": "YomS81IFNzNl"
      },
      "source": [
        "import glob\n",
        "import tifffile as tif\n",
        "import matplotlib.pyplot as plt\n",
        "from spectral import imshow, save_rgb\n",
        "import numpy as np"
      ],
      "execution_count": null,
      "outputs": []
    },
    {
      "cell_type": "code",
      "metadata": {
        "id": "4tTehNC3N0iU"
      },
      "source": [
        "b1 = tif.imread('/content/Dados de SR/L71221071_07120010720_DN_1.tif')\n",
        "b2 = tif.imread('/content/Dados de SR/L71221071_07120010720_DN_2.tif')\n",
        "b3 = tif.imread('/content/Dados de SR/L71221071_07120010720_DN_3.tif')\n",
        "b4 = tif.imread('/content/Dados de SR/L71221071_07120010720_DN_4.tif')\n",
        "b5 = tif.imread('/content/Dados de SR/L71221071_07120010720_DN_5.tif')\n",
        "b7 = tif.imread('/content/Dados de SR/L71221071_07120010720_DN_7.tif')"
      ],
      "execution_count": null,
      "outputs": []
    },
    {
      "cell_type": "code",
      "metadata": {
        "id": "sQA0u3wwUvqi"
      },
      "source": [
        "stack_tif = np.dstack([b1,b2,b3,b4,b5,b7])"
      ],
      "execution_count": null,
      "outputs": []
    },
    {
      "cell_type": "code",
      "metadata": {
        "id": "0k3ucRDhRfnE"
      },
      "source": [
        "bandas_tif = []\n",
        "\n",
        "for i in sorted(glob.glob('/content/Dados de SR/*.tif')):\n",
        "  bandas_tif.append(tif.imread(i))\n",
        "  stack_tif2 = np.dstack(bandas_tif)"
      ],
      "execution_count": null,
      "outputs": []
    },
    {
      "cell_type": "code",
      "metadata": {
        "id": "aklSp0rHSASv"
      },
      "source": [
        "stack_tif2.shape"
      ],
      "execution_count": null,
      "outputs": []
    },
    {
      "cell_type": "code",
      "metadata": {
        "id": "oyXyO8x0cEi_"
      },
      "source": [
        "band_names = ['Blue', 'Green', 'Red', 'NIR', 'SWIR-1','SWIR-2']\n",
        "fig,axes = plt.subplots(2,3,figsize=(10,5)) \n",
        "fig.suptitle('Bandas separadas', fontsize=15) \n",
        "axes = axes.ravel() \n",
        "for i in range(len(bandas_tif)): \n",
        "  axes[i].imshow(stack_tif2[:,:,i],cmap='gray') \n",
        "  axes[i].set_title(band_names[i],fontsize=10) \n",
        "  axes[i].axis('off')"
      ],
      "execution_count": null,
      "outputs": []
    },
    {
      "cell_type": "code",
      "metadata": {
        "id": "I8JqlNTJWvaH"
      },
      "source": [
        "imshow(stack_tif2, bands=(2,3,0))"
      ],
      "execution_count": null,
      "outputs": []
    },
    {
      "cell_type": "markdown",
      "metadata": {
        "id": "9imi00cfD7Pb"
      },
      "source": [
        "# Rasterio"
      ]
    },
    {
      "cell_type": "code",
      "metadata": {
        "id": "Ulw3fUKRU_GK"
      },
      "source": [
        "import rasterio\n",
        "from  rasterio.plot import show"
      ],
      "execution_count": null,
      "outputs": []
    },
    {
      "cell_type": "code",
      "metadata": {
        "id": "qH5N_co9O9vB"
      },
      "source": [
        "rst = rasterio.open('/content/Cubo_SR.tif')"
      ],
      "execution_count": null,
      "outputs": []
    },
    {
      "cell_type": "code",
      "metadata": {
        "id": "5BNcBkZ5bIYD"
      },
      "source": [
        "show(rst., cmap='Greys_r')"
      ],
      "execution_count": null,
      "outputs": []
    },
    {
      "cell_type": "code",
      "metadata": {
        "id": "jn1AlfqrIOpz"
      },
      "source": [
        "rst"
      ],
      "execution_count": null,
      "outputs": []
    },
    {
      "cell_type": "code",
      "metadata": {
        "id": "io6r4EC-H73o"
      },
      "source": [
        "#show(rst)\n",
        "show(rst.read([3,4,1]), transform=rst.transform)"
      ],
      "execution_count": null,
      "outputs": []
    },
    {
      "cell_type": "code",
      "metadata": {
        "id": "0Ugm9w5EbKPx"
      },
      "source": [
        "with rasterio.open('/content/Cubo_SR.tif') as rst:\n",
        "  b1_rst = rst.read(1)\n",
        "  b2_rst = rst.read(2)\n",
        "  b4_rst = rst.read(4)\n",
        "\n",
        "stack_rst = np.dstack([b1_rst,b2_rst,b4_rst])"
      ],
      "execution_count": null,
      "outputs": []
    },
    {
      "cell_type": "code",
      "metadata": {
        "id": "_0OvNrDnbQ-n"
      },
      "source": [
        "imshow(stack_rst)"
      ],
      "execution_count": null,
      "outputs": []
    },
    {
      "cell_type": "markdown",
      "metadata": {
        "id": "_owgrgdqDhCB"
      },
      "source": [
        "# Earthpy"
      ]
    },
    {
      "cell_type": "code",
      "metadata": {
        "id": "6__5UmL8z0Aj"
      },
      "source": [
        "import earthpy.spatial as es\n",
        "import earthpy.plot as ep"
      ],
      "execution_count": null,
      "outputs": []
    },
    {
      "cell_type": "code",
      "metadata": {
        "id": "0InK1N6m0t2-"
      },
      "source": [
        "bandas_ep = []\n",
        "\n",
        "for i in sorted(glob.glob('/content/Dados de SR/*.tif')):\n",
        "  bandas_ep.append(i)\n",
        "  "
      ],
      "execution_count": null,
      "outputs": []
    },
    {
      "cell_type": "code",
      "metadata": {
        "id": "-fvjjafb0QXz"
      },
      "source": [
        "stack_ep, meta_data = es.stack(bandas_ep)"
      ],
      "execution_count": null,
      "outputs": []
    },
    {
      "cell_type": "code",
      "metadata": {
        "id": "ZvZxU8280Xiy"
      },
      "source": [
        "ep.plot_bands(stack_ep, title=band_names)\n",
        "plt.show()"
      ],
      "execution_count": null,
      "outputs": []
    },
    {
      "cell_type": "code",
      "metadata": {
        "id": "I5osVTWv8Ah4"
      },
      "source": [
        "ep.plot_rgb(stack_ep, rgb=(2,3,0), stretch = False)"
      ],
      "execution_count": null,
      "outputs": []
    },
    {
      "cell_type": "markdown",
      "metadata": {
        "id": "SY8ynJ8UDw71"
      },
      "source": [
        "# Histogramas"
      ]
    },
    {
      "cell_type": "code",
      "metadata": {
        "id": "5xrffhWc0_zu"
      },
      "source": [
        "ep.hist(stack_ep, bins = 200, title=band_names)\n",
        "plt.show()"
      ],
      "execution_count": null,
      "outputs": []
    },
    {
      "cell_type": "code",
      "metadata": {
        "id": "AWS0R2nk1GjT"
      },
      "source": [
        "fig2,axes2 = plt.subplots(2,3,figsize=(15,5)) \n",
        "axes2 = axes2.ravel() \n",
        "for i in range(len(bandas_tif)): \n",
        "  axes2[i].hist(stack_tif2[:,:,i].flatten(),bins = 200) \n",
        "  axes2[i].set_title(band_names[i],fontsize=10) "
      ],
      "execution_count": null,
      "outputs": []
    },
    {
      "cell_type": "code",
      "metadata": {
        "id": "8D0FEeiCAgq1"
      },
      "source": [
        "save_rgb('B1.tif',stack_tif2[:,:,0], stretch=(0.02,0.98))"
      ],
      "execution_count": null,
      "outputs": []
    },
    {
      "cell_type": "code",
      "metadata": {
        "id": "agLGsZTsAi6T"
      },
      "source": [
        "B1 = tif.imread('B1.tif')"
      ],
      "execution_count": null,
      "outputs": []
    },
    {
      "cell_type": "code",
      "metadata": {
        "id": "G4P_56cVA79J"
      },
      "source": [
        "plt.hist(B1.flatten(), bins=200)\n",
        "plt.show()"
      ],
      "execution_count": null,
      "outputs": []
    },
    {
      "cell_type": "code",
      "metadata": {
        "id": "tyUfyWmBA9Nk"
      },
      "source": [
        "plt.hist(stack_tif2[:,:,0].flatten(), bins=200)\n",
        "plt.show()"
      ],
      "execution_count": null,
      "outputs": []
    },
    {
      "cell_type": "markdown",
      "metadata": {
        "id": "F-e3jSpOCi3E"
      },
      "source": [
        "**Obrigado!!!**😊"
      ]
    }
  ]
}