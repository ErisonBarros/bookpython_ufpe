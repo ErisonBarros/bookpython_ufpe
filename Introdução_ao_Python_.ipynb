{
  "nbformat": 4,
  "nbformat_minor": 0,
  "metadata": {
    "kernelspec": {
      "display_name": "Python 3",
      "language": "python",
      "name": "python3"
    },
    "language_info": {
      "codemirror_mode": {
        "name": "ipython",
        "version": 3
      },
      "file_extension": ".py",
      "mimetype": "text/x-python",
      "name": "python",
      "nbconvert_exporter": "python",
      "pygments_lexer": "ipython3",
      "version": "3.7.1"
    },
    "colab": {
      "name": "Introdução ao Python .ipynb",
      "provenance": [],
      "include_colab_link": true
    }
  },
  "cells": [
    {
      "cell_type": "markdown",
      "metadata": {
        "id": "view-in-github",
        "colab_type": "text"
      },
      "source": [
        "<a href=\"https://colab.research.google.com/github/ErisonBarros/bookpython_ufpe/blob/master/Introdu%C3%A7%C3%A3o_ao_Python_.ipynb\" target=\"_parent\"><img src=\"https://colab.research.google.com/assets/colab-badge.svg\" alt=\"Open In Colab\"/></a>"
      ]
    },
    {
      "cell_type": "markdown",
      "metadata": {
        "id": "0PeMnZT9HsWO"
      },
      "source": [
        "![image.png](https://encrypted-tbn0.gstatic.com/images?q=tbn:ANd9GcQa2jYkrFEloPmvbODW2OEUKAXdf6vpK1xmYYTANjlwjfczR-18y9RJ-u47CkD3L8sV-ZE&usqp=CAU)\n",
        "# Introdução ao Python\n",
        "\n",
        "###    Prof: Erison Barros"
      ]
    },
    {
      "cell_type": "markdown",
      "metadata": {
        "id": "F11YYN36HsWU"
      },
      "source": [
        "## 1.1 - Hello World - Alô Mundo\n",
        "\n",
        "### <font color='gray'>Utilize a função print() para que seja apresentada na tela a frase \"Alô Mundo\"</font>\n",
        "Sintaxe:\n",
        "<font color='red'>print()<font>"
      ]
    },
    {
      "cell_type": "code",
      "metadata": {
        "colab": {
          "base_uri": "https://localhost:8080/"
        },
        "id": "AWID5CEIHsWW",
        "outputId": "317b70d6-90cd-4ef0-db4d-bf5784ad82a5"
      },
      "source": [
        "print(\"Olá Mundo\")"
      ],
      "execution_count": 3,
      "outputs": [
        {
          "output_type": "stream",
          "name": "stdout",
          "text": [
            "Olá Mundo\n"
          ]
        }
      ]
    },
    {
      "cell_type": "markdown",
      "metadata": {
        "id": "T0RQS8dQHsWY"
      },
      "source": [
        "## 1.2 - Comentários no programa\n",
        "\n",
        "### <font color='gray'>Utilize '#' para inserir uma linha de comentário no programa. Comentários claros e pertinentes são fundamentais para  o desenvolvimento e manutenção de um bom programa.</font> "
      ]
    },
    {
      "cell_type": "code",
      "metadata": {
        "id": "U8BjSFiUHsWZ"
      },
      "source": [
        "# Esta á uma linha de comentário exemplo. Crie uma você também na célula abaixo com:\n",
        "# Nome: ; Data Última Alteração:  \n",
        "# comente também a célula com o \"Olá Mundo\" "
      ],
      "execution_count": 4,
      "outputs": []
    },
    {
      "cell_type": "markdown",
      "metadata": {
        "id": "TVK_RjyuHsWa"
      },
      "source": [
        "## 1.3 - Utilizando Variáveis\n",
        "![image.png](attachment:image.png)\n",
        "### <font color='gray'>Grave o texto \"Olá mundo, meu nome é \" em uma variável chamada textoPadrao</font>"
      ]
    },
    {
      "cell_type": "code",
      "metadata": {
        "id": "Zf78aGkVHsWa"
      },
      "source": [
        "# gravando o textoPadrao em uma variável\n",
        "textoPadrao = \"Olá mundo, meu nome é \""
      ],
      "execution_count": 5,
      "outputs": []
    },
    {
      "cell_type": "markdown",
      "metadata": {
        "id": "BMZYsjkaHsWb"
      },
      "source": [
        "## 1.4 - Capturando o nome da pessoa pelo teclado\n",
        "\n",
        "\n",
        "### <font color='gray'>Utilize a função input() para capturar o nome da pessoa pelo teclado e guarde os dados em uma variável chamada \"nome\"</font>"
      ]
    },
    {
      "cell_type": "code",
      "metadata": {
        "colab": {
          "base_uri": "https://localhost:8080/"
        },
        "id": "YKgKVzXOHsWc",
        "outputId": "a75b4404-b40e-49a6-e773-2dd518ac9210"
      },
      "source": [
        "nome = input(\"Qual seu nome? \")"
      ],
      "execution_count": 6,
      "outputs": [
        {
          "name": "stdout",
          "output_type": "stream",
          "text": [
            "Qual seu nome? Erison\n"
          ]
        }
      ]
    },
    {
      "cell_type": "markdown",
      "metadata": {
        "id": "krv-N8a5HsWd"
      },
      "source": [
        "### <font color='gray'>Apresente na tela o resultado final do textoPadrao junto com a frase</font>"
      ]
    },
    {
      "cell_type": "code",
      "metadata": {
        "colab": {
          "base_uri": "https://localhost:8080/"
        },
        "id": "zBFcZMXZHsWe",
        "outputId": "d2c382fe-655b-444e-f758-a5b6d8ad7de5"
      },
      "source": [
        "# Use a função print() para mostrar a concatenação do texto padrão com o nome\n",
        "print(textoPadrao + nome)"
      ],
      "execution_count": 7,
      "outputs": [
        {
          "output_type": "stream",
          "name": "stdout",
          "text": [
            "Olá mundo, meu nome é Erison\n"
          ]
        }
      ]
    },
    {
      "cell_type": "markdown",
      "metadata": {
        "id": "yXLp2cw3HsWe"
      },
      "source": [
        "## 1.5 - Vamos calcular se o ano de nascimento da pessoa é bissexto ou não!\n",
        "\n",
        "### <font color='gray'>O primeiro passo é caputrar o ano de nascimento através do teclado e guardá-lo em uma variável</font>"
      ]
    },
    {
      "cell_type": "code",
      "metadata": {
        "colab": {
          "base_uri": "https://localhost:8080/"
        },
        "id": "kuzgMsrMHsWf",
        "outputId": "0d04e570-43cc-4c66-9c6f-77429acb2732"
      },
      "source": [
        "anoNascimento = int(input(\"Em que ano você nasceu? \"))"
      ],
      "execution_count": 8,
      "outputs": [
        {
          "name": "stdout",
          "output_type": "stream",
          "text": [
            "Em que ano você nasceu? 1980\n"
          ]
        }
      ]
    },
    {
      "cell_type": "markdown",
      "metadata": {
        "id": "vRHdafj4HsWf"
      },
      "source": [
        "### <font color='gray'>Agora verificamos se o ano é bissexto utilizando o operador de módulo '%' (resto da divisão) e apresentamos na tela o resultado</font>"
      ]
    },
    {
      "cell_type": "code",
      "metadata": {
        "colab": {
          "base_uri": "https://localhost:8080/"
        },
        "id": "vl_hEIWaHsWg",
        "outputId": "c07369d1-6afd-4ba3-ac0d-a9fc9a534723"
      },
      "source": [
        "if (anoNascimento % 4) == 0:\n",
        "    print(\"Você nasceu em um ano bissexto\")\n",
        "else:\n",
        "    print(\"Você não nasceu em um ano bissexto\")"
      ],
      "execution_count": 9,
      "outputs": [
        {
          "output_type": "stream",
          "name": "stdout",
          "text": [
            "Você nasceu em um ano bissexto\n"
          ]
        }
      ]
    },
    {
      "cell_type": "markdown",
      "metadata": {
        "id": "ltff4b7FHsWg"
      },
      "source": [
        "## 2.1 - Calculando somatória de 1 a N\n",
        "\n",
        "### <font color='gray'>Inicialmente iremos capturar o número do usuário pelo teclado</font>"
      ]
    },
    {
      "cell_type": "code",
      "metadata": {
        "colab": {
          "base_uri": "https://localhost:8080/"
        },
        "id": "8GAEqGIZHsWh",
        "outputId": "c6aa7c7c-e49d-4d7c-a057-607e1e1d4acd"
      },
      "source": [
        "perguntaNumero = input(\"De qual número iremos calcular a somatória de 1 a N? \")"
      ],
      "execution_count": 10,
      "outputs": [
        {
          "name": "stdout",
          "output_type": "stream",
          "text": [
            "De qual número iremos calcular a somatória de 1 a N? 5\n"
          ]
        }
      ]
    },
    {
      "cell_type": "markdown",
      "metadata": {
        "id": "U6zoZaqWHsWh"
      },
      "source": [
        "### <font color='gray'>- Vamos utilizar o comando \"for\" para calcular a soma dos números\n",
        "- Iremos utilizar também as funções: \n",
        "    - int() para converter de string para inteiro\n",
        "    - range() para determinar o intervalor da repetição do For\n",
        "\n",
        "\n",
        "</font>"
      ]
    },
    {
      "cell_type": "code",
      "metadata": {
        "id": "aEcT0znEHsWi"
      },
      "source": [
        "somatoria = 0\n",
        "for i in range(1, int(perguntaNumero) + 1):\n",
        "    somatoria = somatoria + i"
      ],
      "execution_count": 11,
      "outputs": []
    },
    {
      "cell_type": "markdown",
      "metadata": {
        "id": "wsT0ohwBHsWj"
      },
      "source": [
        "### <font color='gray'> Apresentando o resultado final na tela:</font>\n",
        "- Iremos utilizar também a função: \n",
        "    - str() para converter de inteiro para string"
      ]
    },
    {
      "cell_type": "code",
      "metadata": {
        "colab": {
          "base_uri": "https://localhost:8080/"
        },
        "id": "kP0lTn8fHsWj",
        "outputId": "8644ba76-f41a-4614-fca2-1ef9d97a5056"
      },
      "source": [
        "print(\"A somatória de 1 a \" + perguntaNumero + \" é \" + str(somatoria))"
      ],
      "execution_count": 14,
      "outputs": [
        {
          "output_type": "stream",
          "name": "stdout",
          "text": [
            "A somatória de 1 a 5 é 15\n"
          ]
        }
      ]
    },
    {
      "cell_type": "markdown",
      "metadata": {
        "id": "OIZI02ISHsWk"
      },
      "source": [
        "\n",
        "## 2.2 - Criando uma Lista\n"
      ]
    },
    {
      "cell_type": "code",
      "metadata": {
        "id": "rtIuYa9QHsWk"
      },
      "source": [
        "goleirosSPFC = [\"Poy\", \"Suly\", \"Waldir Peres\", \"Gilmar\", \"Zetti\", \"Rogério Ceni\"]"
      ],
      "execution_count": 16,
      "outputs": []
    },
    {
      "cell_type": "code",
      "metadata": {
        "colab": {
          "base_uri": "https://localhost:8080/"
        },
        "id": "EqwQ1oq_HsWl",
        "outputId": "b29ab7f7-9993-4ba5-c079-cef4ec3ba088"
      },
      "source": [
        "goleirosSPFC"
      ],
      "execution_count": 17,
      "outputs": [
        {
          "output_type": "execute_result",
          "data": {
            "text/plain": [
              "['Poy', 'Suly', 'Waldir Peres', 'Gilmar', 'Zetti', 'Rogério Ceni']"
            ]
          },
          "metadata": {},
          "execution_count": 17
        }
      ]
    },
    {
      "cell_type": "markdown",
      "metadata": {
        "id": "DGYGNa_HHsWl"
      },
      "source": [
        "## 2.3 - Recuperando trechos e elementos de uma lista"
      ]
    },
    {
      "cell_type": "markdown",
      "metadata": {
        "id": "CeljssaKHsWl"
      },
      "source": [
        "### <font color='gray'> Agora vamos recuperar nomes através do índice, capturado pelo teclado</font>"
      ]
    },
    {
      "cell_type": "code",
      "metadata": {
        "colab": {
          "base_uri": "https://localhost:8080/"
        },
        "id": "Tkqb6HUgHsWm",
        "outputId": "58c97ae9-a7f8-4bba-dd6d-b1f941469096"
      },
      "source": [
        "posicao = input(\"Você quer saber o nome de qual posição na lista? Observação: deve ser um número de 0 a \" + str(len(goleirosSPFC) - 1) + \"\\n\")\n",
        "print(goleirosSPFC[int(posicao)])"
      ],
      "execution_count": 18,
      "outputs": [
        {
          "output_type": "stream",
          "name": "stdout",
          "text": [
            "Você quer saber o nome de qual posição na lista? Observação: deve ser um número de 0 a 5\n",
            "1\n",
            "Suly\n"
          ]
        }
      ]
    },
    {
      "cell_type": "markdown",
      "metadata": {
        "id": "tRPCviueHsWm"
      },
      "source": [
        "### <font color='gray'> Recuperando trechos (slices) de uma lista. Observe o comportamento de acordo com os índices informados </font>"
      ]
    },
    {
      "cell_type": "markdown",
      "metadata": {
        "id": "mN4xeZl3HsWm"
      },
      "source": [
        "- Lista elementos de 1 a 3 - observação: o segundo índice é EXCLUSIVO, não fará parte da seleção"
      ]
    },
    {
      "cell_type": "code",
      "metadata": {
        "colab": {
          "base_uri": "https://localhost:8080/"
        },
        "id": "Y0Vsstq1HsWn",
        "outputId": "ac62d027-4294-40ce-956e-dc129848bbef"
      },
      "source": [
        "goleirosSPFC[1:3]"
      ],
      "execution_count": 27,
      "outputs": [
        {
          "output_type": "execute_result",
          "data": {
            "text/plain": [
              "['Suly', 'Waldir Peres']"
            ]
          },
          "metadata": {},
          "execution_count": 27
        }
      ]
    },
    {
      "cell_type": "markdown",
      "metadata": {
        "id": "4THieMnbHsWn"
      },
      "source": [
        "- Lista elementos de 1 até o final"
      ]
    },
    {
      "cell_type": "code",
      "metadata": {
        "colab": {
          "base_uri": "https://localhost:8080/"
        },
        "id": "320lfdIyHsWo",
        "outputId": "485de56a-7243-43ad-d9a2-f81bcefbec4d"
      },
      "source": [
        "goleirosSPFC[1:]"
      ],
      "execution_count": 28,
      "outputs": [
        {
          "output_type": "execute_result",
          "data": {
            "text/plain": [
              "['Suly', 'Waldir Peres', 'Gilmar', 'Zetti', 'Rogério Ceni']"
            ]
          },
          "metadata": {},
          "execution_count": 28
        }
      ]
    },
    {
      "cell_type": "markdown",
      "metadata": {
        "id": "b1Ze002oHsWo"
      },
      "source": [
        "- Lista elementos do começo até a posição 2"
      ]
    },
    {
      "cell_type": "code",
      "metadata": {
        "colab": {
          "base_uri": "https://localhost:8080/"
        },
        "id": "WPJ7bDjbHsWp",
        "outputId": "6afce231-dbb1-43da-d648-9a7978128af1"
      },
      "source": [
        "goleirosSPFC[:3]"
      ],
      "execution_count": 29,
      "outputs": [
        {
          "output_type": "execute_result",
          "data": {
            "text/plain": [
              "['Poy', 'Suly', 'Waldir Peres']"
            ]
          },
          "metadata": {},
          "execution_count": 29
        }
      ]
    },
    {
      "cell_type": "markdown",
      "metadata": {
        "id": "emYoab51HsWp"
      },
      "source": [
        "- Lista elementos do início até a penúltima posição"
      ]
    },
    {
      "cell_type": "code",
      "metadata": {
        "colab": {
          "base_uri": "https://localhost:8080/"
        },
        "id": "ae0bwE-wHsWp",
        "outputId": "111aa136-69f4-429c-9009-a3a7549e460c"
      },
      "source": [
        "goleirosSPFC[:-1]"
      ],
      "execution_count": 30,
      "outputs": [
        {
          "output_type": "execute_result",
          "data": {
            "text/plain": [
              "['Poy', 'Suly', 'Waldir Peres', 'Gilmar', 'Zetti']"
            ]
          },
          "metadata": {},
          "execution_count": 30
        }
      ]
    },
    {
      "cell_type": "markdown",
      "metadata": {
        "id": "5xnSmdnsHsWq"
      },
      "source": [
        "## 2.4 - Manipulando elementos de uma lista"
      ]
    },
    {
      "cell_type": "markdown",
      "metadata": {
        "id": "zai-PPrQHsWq"
      },
      "source": [
        "### <font color='gray'> Vamos adicionar um novo professor à lista! </font>"
      ]
    },
    {
      "cell_type": "code",
      "metadata": {
        "colab": {
          "base_uri": "https://localhost:8080/"
        },
        "id": "H0zeMtjFHsWq",
        "outputId": "e4df432c-5591-449e-a94f-c4d27b5636ba"
      },
      "source": [
        "goleiroNovo = input(\"Qual o nome do professor que será adicionado à lista?\\n\")\n",
        "goleirosSPFC.append(goleiroNovo)\n",
        "print(goleirosSPFC)"
      ],
      "execution_count": 31,
      "outputs": [
        {
          "output_type": "stream",
          "name": "stdout",
          "text": [
            "Qual o nome do professor que será adicionado à lista?\n",
            "Erison\n",
            "['Poy', 'Suly', 'Waldir Peres', 'Gilmar', 'Zetti', 'Rogério Ceni', 'Erison']\n"
          ]
        }
      ]
    },
    {
      "cell_type": "markdown",
      "metadata": {
        "id": "f8JLCzRgHsWr"
      },
      "source": [
        "### <font color='gray'> Vamos alterar um professor da lista </font>"
      ]
    },
    {
      "cell_type": "code",
      "metadata": {
        "scrolled": true,
        "id": "lZwNFl-5HsWr"
      },
      "source": [
        "goleirosSPFC[0] = \"King\""
      ],
      "execution_count": 32,
      "outputs": []
    },
    {
      "cell_type": "markdown",
      "metadata": {
        "id": "a9dCGRW6HsWr"
      },
      "source": [
        "## 2.5 - Criando um Dicionário\n"
      ]
    },
    {
      "cell_type": "code",
      "metadata": {
        "id": "N4VqCvXNHsWr"
      },
      "source": [
        "dict = {\"SP\":45.92,\"RJ\":17.26, \"MG\":21.17, \"BA\":14.87}"
      ],
      "execution_count": 33,
      "outputs": []
    },
    {
      "cell_type": "markdown",
      "metadata": {
        "id": "yFndOBFlHsWs"
      },
      "source": [
        "## 2.6 - Recuperando e manipulando elementos de um Dicionário"
      ]
    },
    {
      "cell_type": "markdown",
      "metadata": {
        "id": "U8Ov6ojFHsWs"
      },
      "source": [
        "### <font color='gray'> Vamos recuperar um Valor do dicionário através da Chave </font>"
      ]
    },
    {
      "cell_type": "code",
      "metadata": {
        "colab": {
          "base_uri": "https://localhost:8080/"
        },
        "id": "sz3Pvdb3HsWs",
        "outputId": "4e979d3a-46f8-4c56-98d7-5ccd128bef7f"
      },
      "source": [
        "dict[\"SP\"]"
      ],
      "execution_count": 35,
      "outputs": [
        {
          "output_type": "execute_result",
          "data": {
            "text/plain": [
              "45.92"
            ]
          },
          "metadata": {},
          "execution_count": 35
        }
      ]
    },
    {
      "cell_type": "markdown",
      "metadata": {
        "id": "GOaKxK_CHsWt"
      },
      "source": [
        "### <font color='gray'> Vamos alterar um valor do dicionário </font>"
      ]
    },
    {
      "cell_type": "code",
      "metadata": {
        "scrolled": true,
        "colab": {
          "base_uri": "https://localhost:8080/"
        },
        "id": "ImJlfFcUHsWt",
        "outputId": "39e63d9c-33b4-4b62-f105-fad9f2e5e9d3"
      },
      "source": [
        "dict[\"SP\"] = 66.66\n",
        "dict"
      ],
      "execution_count": 37,
      "outputs": [
        {
          "output_type": "execute_result",
          "data": {
            "text/plain": [
              "{'BA': 14.87, 'MG': 21.17, 'RJ': 17.26, 'SP': 66.66}"
            ]
          },
          "metadata": {},
          "execution_count": 37
        }
      ]
    },
    {
      "cell_type": "markdown",
      "metadata": {
        "id": "Hwu8aiPBHsWt"
      },
      "source": [
        "## 3.1 - Utilizando algumas das funções pré-existentes\n"
      ]
    },
    {
      "cell_type": "markdown",
      "metadata": {
        "id": "-8qU61YIHsWu"
      },
      "source": [
        "### <font color='gray'> Referência com todas funções pré-existentes no Python </font>\n",
        "https://docs.python.org/3/library/functions.html\n",
        "\n",
        "\n"
      ]
    },
    {
      "cell_type": "code",
      "metadata": {
        "colab": {
          "base_uri": "https://localhost:8080/"
        },
        "id": "IyVisb4qHsWu",
        "outputId": "f60000d8-0295-4260-e2c2-41fd53be5551"
      },
      "source": [
        "# Utilizar a função help() para descobrir mais informações sobre as funções pré-existentes \n",
        "help(round)"
      ],
      "execution_count": 38,
      "outputs": [
        {
          "output_type": "stream",
          "name": "stdout",
          "text": [
            "Help on built-in function round in module builtins:\n",
            "\n",
            "round(number, ndigits=None)\n",
            "    Round a number to a given precision in decimal digits.\n",
            "    \n",
            "    The return value is an integer if ndigits is omitted or None.  Otherwise\n",
            "    the return value has the same type as the number.  ndigits may be negative.\n",
            "\n"
          ]
        }
      ]
    },
    {
      "cell_type": "markdown",
      "metadata": {
        "id": "_A2gQJbqHsWu"
      },
      "source": [
        "## 3.2 - Escrevendo uma nova função"
      ]
    },
    {
      "cell_type": "markdown",
      "metadata": {
        "id": "SdWN18fsHsWv"
      },
      "source": [
        "### <font color='gray'> Função que verifica se uma string é um palíndromo </font>\n"
      ]
    },
    {
      "cell_type": "code",
      "metadata": {
        "id": "vocvWid4HsWv"
      },
      "source": [
        "def verificarPalindromo(frase):\n",
        "    # captura o tamanho da frase\n",
        "    tamanho = len(frase)\n",
        "    # executa a repetição para a metade do tamanho da string (// é a operação de divisão inteira)\n",
        "    for i in range(tamanho//2):\n",
        "        # vai percorrendo a string \"para dentro\" nos dois sentidos, de acordo com o valor de i\n",
        "        if frase[i] != frase[(tamanho-1) - i]:\n",
        "            #interrompe execução caso encontre diferenças\n",
        "            return False\n",
        "        # se chegou ao final significa que a string é um palíndromo\n",
        "    return True"
      ],
      "execution_count": 39,
      "outputs": []
    },
    {
      "cell_type": "markdown",
      "metadata": {
        "id": "CsAMO0GxHsWv"
      },
      "source": [
        "### <font color='gray'> Vamos testar com uma frase a ser digitada! </font>"
      ]
    },
    {
      "cell_type": "code",
      "metadata": {
        "colab": {
          "base_uri": "https://localhost:8080/"
        },
        "id": "uv_KLabyHsWw",
        "outputId": "66f97884-8e98-4652-fb4d-1e64ae187ae0"
      },
      "source": [
        "frase = input(\"digite string\\n\")\n",
        "verificarPalindromo(frase)"
      ],
      "execution_count": 40,
      "outputs": [
        {
          "name": "stdout",
          "output_type": "stream",
          "text": [
            "digite string\n",
            "erison\n"
          ]
        },
        {
          "output_type": "execute_result",
          "data": {
            "text/plain": [
              "False"
            ]
          },
          "metadata": {},
          "execution_count": 40
        }
      ]
    },
    {
      "cell_type": "markdown",
      "metadata": {
        "id": "Wm4Mh9_gHsWw"
      },
      "source": [
        "## 4.1 - Operação elemento a elemento com o NumPy\n"
      ]
    },
    {
      "cell_type": "markdown",
      "metadata": {
        "id": "JP8klUJOHsWw"
      },
      "source": [
        "### <font color='gray'> O primeiro passo é importar a biblioteca </font>"
      ]
    },
    {
      "cell_type": "code",
      "metadata": {
        "id": "I3etUgo7HsWx"
      },
      "source": [
        "import numpy as np"
      ],
      "execution_count": 41,
      "outputs": []
    },
    {
      "cell_type": "markdown",
      "metadata": {
        "id": "NxREfY8yHsWx"
      },
      "source": [
        "### <font color='gray'> Realizando a soma com Listas </font>"
      ]
    },
    {
      "cell_type": "code",
      "metadata": {
        "colab": {
          "base_uri": "https://localhost:8080/"
        },
        "id": "NSemLRHzHsWx",
        "outputId": "113f679b-1f45-4b97-92de-5a26d26d1b97"
      },
      "source": [
        "notasProva1 = [3.0, 2.5, 4.5]\n",
        "notasProva2 = [3.5, 2.0, 5.0]\n",
        "somaListas = notasProva1 + notasProva2\n",
        "somaListas"
      ],
      "execution_count": 42,
      "outputs": [
        {
          "output_type": "execute_result",
          "data": {
            "text/plain": [
              "[3.0, 2.5, 4.5, 3.5, 2.0, 5.0]"
            ]
          },
          "metadata": {},
          "execution_count": 42
        }
      ]
    },
    {
      "cell_type": "markdown",
      "metadata": {
        "id": "YY-EpfL7HsWy"
      },
      "source": [
        "### <font color='gray'> Convertendo as listas para arrays NumPy </font>"
      ]
    },
    {
      "cell_type": "code",
      "metadata": {
        "id": "kJuXnK6lHsWy"
      },
      "source": [
        "arrayProva1 = np.array(notasProva1)\n",
        "arrayProva2 = np.array(notasProva2)"
      ],
      "execution_count": 43,
      "outputs": []
    },
    {
      "cell_type": "markdown",
      "metadata": {
        "id": "3GAY701gHsWy"
      },
      "source": [
        "### <font color='gray'> Realizando a operação por elemento com os NumPy Arrays </font>"
      ]
    },
    {
      "cell_type": "code",
      "metadata": {
        "colab": {
          "base_uri": "https://localhost:8080/"
        },
        "id": "LZcfHqQsHsWy",
        "outputId": "49d0d902-fd29-410b-e6dc-6ddd1b9821a1"
      },
      "source": [
        "somaArrays = arrayProva1 + arrayProva2\n",
        "somaArrays"
      ],
      "execution_count": 45,
      "outputs": [
        {
          "output_type": "execute_result",
          "data": {
            "text/plain": [
              "array([6.5, 4.5, 9.5])"
            ]
          },
          "metadata": {},
          "execution_count": 45
        }
      ]
    },
    {
      "cell_type": "markdown",
      "metadata": {
        "id": "01cXYB8hHsWy"
      },
      "source": [
        "## 4.2 - Ler um arquivo CSV e criar um Dataframe com o PANDAS\n"
      ]
    },
    {
      "cell_type": "markdown",
      "metadata": {
        "id": "cLpBp2XRHsWy"
      },
      "source": [
        "### <font color='gray'> O primeiro passo é importar a biblioteca </font>"
      ]
    },
    {
      "cell_type": "code",
      "metadata": {
        "id": "WAp-0LecHsWz"
      },
      "source": [
        "import pandas as pd\n",
        "pd.options.display.max_columns = None"
      ],
      "execution_count": 46,
      "outputs": []
    },
    {
      "cell_type": "markdown",
      "metadata": {
        "id": "U3297SWVHsWz"
      },
      "source": [
        "### <font color='gray'> Vamos importar um dataset com as informações dos bairros de SP </font>\n",
        "\n",
        "\n",
        "https://www.kaggle.com/caiobsilva/sp-district-coordinates#sp_dist.json"
      ]
    },
    {
      "cell_type": "code",
      "metadata": {
        "id": "yvtDfMW8HsWz"
      },
      "source": [
        "# função read_json lê um arquivo no formato json - similar a um dicionário\n",
        "dfBairros = pd.read_json('/content/sp_dist.json', encoding='utf-8')"
      ],
      "execution_count": 51,
      "outputs": []
    },
    {
      "cell_type": "markdown",
      "metadata": {
        "id": "KeEJaEeRHsWz"
      },
      "source": [
        "### <font color='gray'> a função shape permite ver quantas linhas e colunas a base possui </font>"
      ]
    },
    {
      "cell_type": "code",
      "metadata": {
        "colab": {
          "base_uri": "https://localhost:8080/"
        },
        "id": "tiYGT7nLHsW0",
        "outputId": "098eef5d-0e41-4590-bc85-4a2d11e73726"
      },
      "source": [
        "dfBairros.shape"
      ],
      "execution_count": 52,
      "outputs": [
        {
          "output_type": "execute_result",
          "data": {
            "text/plain": [
              "(96, 4)"
            ]
          },
          "metadata": {},
          "execution_count": 52
        }
      ]
    },
    {
      "cell_type": "markdown",
      "metadata": {
        "id": "tIUePp7GHsW0"
      },
      "source": [
        "### <font color='gray'> columns retorna as colunas presentes na base </font>"
      ]
    },
    {
      "cell_type": "code",
      "metadata": {
        "colab": {
          "base_uri": "https://localhost:8080/"
        },
        "id": "oD3azz7qHsW0",
        "outputId": "1abf6958-099c-4c80-caed-af08bcf831c9"
      },
      "source": [
        "dfBairros.columns"
      ],
      "execution_count": 57,
      "outputs": [
        {
          "output_type": "execute_result",
          "data": {
            "text/plain": [
              "Index(['Districts', 'Population', 'Longitude', 'Latitude'], dtype='object')"
            ]
          },
          "metadata": {},
          "execution_count": 57
        }
      ]
    },
    {
      "cell_type": "code",
      "metadata": {
        "scrolled": true,
        "colab": {
          "base_uri": "https://localhost:8080/",
          "height": 203
        },
        "id": "g64a8gITHsW1",
        "outputId": "f836c160-c4e6-4527-ab2b-7f721d65141a"
      },
      "source": [
        "# Função head() retorna os N primeiros registros\n",
        "dfBairros.head(5)"
      ],
      "execution_count": 58,
      "outputs": [
        {
          "output_type": "execute_result",
          "data": {
            "text/html": [
              "<div>\n",
              "<style scoped>\n",
              "    .dataframe tbody tr th:only-of-type {\n",
              "        vertical-align: middle;\n",
              "    }\n",
              "\n",
              "    .dataframe tbody tr th {\n",
              "        vertical-align: top;\n",
              "    }\n",
              "\n",
              "    .dataframe thead th {\n",
              "        text-align: right;\n",
              "    }\n",
              "</style>\n",
              "<table border=\"1\" class=\"dataframe\">\n",
              "  <thead>\n",
              "    <tr style=\"text-align: right;\">\n",
              "      <th></th>\n",
              "      <th>Districts</th>\n",
              "      <th>Population</th>\n",
              "      <th>Longitude</th>\n",
              "      <th>Latitude</th>\n",
              "    </tr>\n",
              "  </thead>\n",
              "  <tbody>\n",
              "    <tr>\n",
              "      <th>1</th>\n",
              "      <td>Grajaú</td>\n",
              "      <td>444.593</td>\n",
              "      <td>-46.665575</td>\n",
              "      <td>-23.785798</td>\n",
              "    </tr>\n",
              "    <tr>\n",
              "      <th>2</th>\n",
              "      <td>Sapopemba</td>\n",
              "      <td>296.042</td>\n",
              "      <td>-46.509885</td>\n",
              "      <td>-23.604326</td>\n",
              "    </tr>\n",
              "    <tr>\n",
              "      <th>3</th>\n",
              "      <td>Jardim Ângela</td>\n",
              "      <td>291.798</td>\n",
              "      <td>-46.771206</td>\n",
              "      <td>-23.712246</td>\n",
              "    </tr>\n",
              "    <tr>\n",
              "      <th>4</th>\n",
              "      <td>Brasilândia</td>\n",
              "      <td>280.069</td>\n",
              "      <td>-46.690269</td>\n",
              "      <td>-23.448272</td>\n",
              "    </tr>\n",
              "    <tr>\n",
              "      <th>5</th>\n",
              "      <td>Capão Redondo</td>\n",
              "      <td>275.230</td>\n",
              "      <td>-46.767753</td>\n",
              "      <td>-23.658859</td>\n",
              "    </tr>\n",
              "  </tbody>\n",
              "</table>\n",
              "</div>"
            ],
            "text/plain": [
              "       Districts  Population  Longitude   Latitude\n",
              "1         Grajaú     444.593 -46.665575 -23.785798\n",
              "2      Sapopemba     296.042 -46.509885 -23.604326\n",
              "3  Jardim Ângela     291.798 -46.771206 -23.712246\n",
              "4    Brasilândia     280.069 -46.690269 -23.448272\n",
              "5  Capão Redondo     275.230 -46.767753 -23.658859"
            ]
          },
          "metadata": {},
          "execution_count": 58
        }
      ]
    },
    {
      "cell_type": "code",
      "metadata": {
        "colab": {
          "base_uri": "https://localhost:8080/",
          "height": 203
        },
        "id": "zaEegLqEHsW1",
        "outputId": "33ad652b-5964-40c4-aeb3-2dbbf6ca3d30"
      },
      "source": [
        "# Função tail() retorna os N primeiros registros\n",
        "dfBairros.tail(5)"
      ],
      "execution_count": 59,
      "outputs": [
        {
          "output_type": "execute_result",
          "data": {
            "text/html": [
              "<div>\n",
              "<style scoped>\n",
              "    .dataframe tbody tr th:only-of-type {\n",
              "        vertical-align: middle;\n",
              "    }\n",
              "\n",
              "    .dataframe tbody tr th {\n",
              "        vertical-align: top;\n",
              "    }\n",
              "\n",
              "    .dataframe thead th {\n",
              "        text-align: right;\n",
              "    }\n",
              "</style>\n",
              "<table border=\"1\" class=\"dataframe\">\n",
              "  <thead>\n",
              "    <tr style=\"text-align: right;\">\n",
              "      <th></th>\n",
              "      <th>Districts</th>\n",
              "      <th>Population</th>\n",
              "      <th>Longitude</th>\n",
              "      <th>Latitude</th>\n",
              "    </tr>\n",
              "  </thead>\n",
              "  <tbody>\n",
              "    <tr>\n",
              "      <th>92</th>\n",
              "      <td>Jaguara</td>\n",
              "      <td>24.114</td>\n",
              "      <td>-46.755315</td>\n",
              "      <td>-23.507446</td>\n",
              "    </tr>\n",
              "    <tr>\n",
              "      <th>93</th>\n",
              "      <td>Sé</td>\n",
              "      <td>21.564</td>\n",
              "      <td>-46.633446</td>\n",
              "      <td>-23.550443</td>\n",
              "    </tr>\n",
              "    <tr>\n",
              "      <th>94</th>\n",
              "      <td>Pari</td>\n",
              "      <td>16.144</td>\n",
              "      <td>-46.615849</td>\n",
              "      <td>-23.532976</td>\n",
              "    </tr>\n",
              "    <tr>\n",
              "      <th>95</th>\n",
              "      <td>Barra Funda</td>\n",
              "      <td>12.977</td>\n",
              "      <td>-46.667513</td>\n",
              "      <td>-23.525462</td>\n",
              "    </tr>\n",
              "    <tr>\n",
              "      <th>96</th>\n",
              "      <td>Marsilac</td>\n",
              "      <td>10.180</td>\n",
              "      <td>-46.710230</td>\n",
              "      <td>-23.937142</td>\n",
              "    </tr>\n",
              "  </tbody>\n",
              "</table>\n",
              "</div>"
            ],
            "text/plain": [
              "      Districts  Population  Longitude   Latitude\n",
              "92      Jaguara      24.114 -46.755315 -23.507446\n",
              "93           Sé      21.564 -46.633446 -23.550443\n",
              "94         Pari      16.144 -46.615849 -23.532976\n",
              "95  Barra Funda      12.977 -46.667513 -23.525462\n",
              "96     Marsilac      10.180 -46.710230 -23.937142"
            ]
          },
          "metadata": {},
          "execution_count": 59
        }
      ]
    },
    {
      "cell_type": "code",
      "metadata": {
        "colab": {
          "base_uri": "https://localhost:8080/",
          "height": 1000
        },
        "id": "64R4QG-hHsW1",
        "outputId": "70457b76-f9af-4c51-e747-67c2640be480"
      },
      "source": [
        "# Com a opção 'display.max_rows' podemos decidir quantos registros aparecem ao apresentar na tela as infos\n",
        "pd.set_option('display.max_rows', None)\n",
        "dfBairros.sort_values('Districts', ascending = True)"
      ],
      "execution_count": 60,
      "outputs": [
        {
          "output_type": "execute_result",
          "data": {
            "text/html": [
              "<div>\n",
              "<style scoped>\n",
              "    .dataframe tbody tr th:only-of-type {\n",
              "        vertical-align: middle;\n",
              "    }\n",
              "\n",
              "    .dataframe tbody tr th {\n",
              "        vertical-align: top;\n",
              "    }\n",
              "\n",
              "    .dataframe thead th {\n",
              "        text-align: right;\n",
              "    }\n",
              "</style>\n",
              "<table border=\"1\" class=\"dataframe\">\n",
              "  <thead>\n",
              "    <tr style=\"text-align: right;\">\n",
              "      <th></th>\n",
              "      <th>Districts</th>\n",
              "      <th>Population</th>\n",
              "      <th>Longitude</th>\n",
              "      <th>Latitude</th>\n",
              "    </tr>\n",
              "  </thead>\n",
              "  <tbody>\n",
              "    <tr>\n",
              "      <th>84</th>\n",
              "      <td>Alto de Pinheiros</td>\n",
              "      <td>39.477</td>\n",
              "      <td>-46.707642</td>\n",
              "      <td>-23.549906</td>\n",
              "    </tr>\n",
              "    <tr>\n",
              "      <th>78</th>\n",
              "      <td>Anhanguera</td>\n",
              "      <td>53.266</td>\n",
              "      <td>-46.788534</td>\n",
              "      <td>-23.432908</td>\n",
              "    </tr>\n",
              "    <tr>\n",
              "      <th>53</th>\n",
              "      <td>Aricanduva</td>\n",
              "      <td>92.982</td>\n",
              "      <td>-46.511454</td>\n",
              "      <td>-23.578024</td>\n",
              "    </tr>\n",
              "    <tr>\n",
              "      <th>42</th>\n",
              "      <td>Artur Alvim</td>\n",
              "      <td>104.864</td>\n",
              "      <td>-46.485265</td>\n",
              "      <td>-23.539221</td>\n",
              "    </tr>\n",
              "    <tr>\n",
              "      <th>95</th>\n",
              "      <td>Barra Funda</td>\n",
              "      <td>12.977</td>\n",
              "      <td>-46.667513</td>\n",
              "      <td>-23.525462</td>\n",
              "    </tr>\n",
              "    <tr>\n",
              "      <th>77</th>\n",
              "      <td>Bela Vista</td>\n",
              "      <td>57.204</td>\n",
              "      <td>-46.647766</td>\n",
              "      <td>-23.562210</td>\n",
              "    </tr>\n",
              "    <tr>\n",
              "      <th>86</th>\n",
              "      <td>Belém</td>\n",
              "      <td>36.283</td>\n",
              "      <td>-46.595039</td>\n",
              "      <td>-23.538476</td>\n",
              "    </tr>\n",
              "    <tr>\n",
              "      <th>90</th>\n",
              "      <td>Bom Retiro</td>\n",
              "      <td>28.591</td>\n",
              "      <td>-46.636835</td>\n",
              "      <td>-23.527138</td>\n",
              "    </tr>\n",
              "    <tr>\n",
              "      <th>4</th>\n",
              "      <td>Brasilândia</td>\n",
              "      <td>280.069</td>\n",
              "      <td>-46.690269</td>\n",
              "      <td>-23.448272</td>\n",
              "    </tr>\n",
              "    <tr>\n",
              "      <th>91</th>\n",
              "      <td>Brás</td>\n",
              "      <td>26.587</td>\n",
              "      <td>-46.616336</td>\n",
              "      <td>-23.545114</td>\n",
              "    </tr>\n",
              "    <tr>\n",
              "      <th>80</th>\n",
              "      <td>Butantã</td>\n",
              "      <td>48.040</td>\n",
              "      <td>-46.708090</td>\n",
              "      <td>-23.571900</td>\n",
              "    </tr>\n",
              "    <tr>\n",
              "      <th>23</th>\n",
              "      <td>Cachoeirinha</td>\n",
              "      <td>157.408</td>\n",
              "      <td>-46.663636</td>\n",
              "      <td>-23.449337</td>\n",
              "    </tr>\n",
              "    <tr>\n",
              "      <th>89</th>\n",
              "      <td>Cambuci</td>\n",
              "      <td>29.811</td>\n",
              "      <td>-46.613650</td>\n",
              "      <td>-23.566129</td>\n",
              "    </tr>\n",
              "    <tr>\n",
              "      <th>72</th>\n",
              "      <td>Campo Belo</td>\n",
              "      <td>62.530</td>\n",
              "      <td>-46.669421</td>\n",
              "      <td>-23.626731</td>\n",
              "    </tr>\n",
              "    <tr>\n",
              "      <th>48</th>\n",
              "      <td>Campo Grande</td>\n",
              "      <td>96.756</td>\n",
              "      <td>-46.687226</td>\n",
              "      <td>-23.675548</td>\n",
              "    </tr>\n",
              "    <tr>\n",
              "      <th>12</th>\n",
              "      <td>Campo Limpo</td>\n",
              "      <td>216.098</td>\n",
              "      <td>-46.758729</td>\n",
              "      <td>-23.648880</td>\n",
              "    </tr>\n",
              "    <tr>\n",
              "      <th>25</th>\n",
              "      <td>Cangaíba</td>\n",
              "      <td>151.538</td>\n",
              "      <td>-46.531425</td>\n",
              "      <td>-23.505900</td>\n",
              "    </tr>\n",
              "    <tr>\n",
              "      <th>5</th>\n",
              "      <td>Capão Redondo</td>\n",
              "      <td>275.230</td>\n",
              "      <td>-46.767753</td>\n",
              "      <td>-23.658859</td>\n",
              "    </tr>\n",
              "    <tr>\n",
              "      <th>68</th>\n",
              "      <td>Carrão</td>\n",
              "      <td>71.363</td>\n",
              "      <td>-46.537791</td>\n",
              "      <td>-23.551530</td>\n",
              "    </tr>\n",
              "    <tr>\n",
              "      <th>65</th>\n",
              "      <td>Casa Verde</td>\n",
              "      <td>75.687</td>\n",
              "      <td>-46.656138</td>\n",
              "      <td>-23.505927</td>\n",
              "    </tr>\n",
              "    <tr>\n",
              "      <th>7</th>\n",
              "      <td>Cidade Ademar</td>\n",
              "      <td>248.215</td>\n",
              "      <td>-46.655281</td>\n",
              "      <td>-23.673012</td>\n",
              "    </tr>\n",
              "    <tr>\n",
              "      <th>14</th>\n",
              "      <td>Cidade Dutra</td>\n",
              "      <td>203.473</td>\n",
              "      <td>-46.699088</td>\n",
              "      <td>-23.713964</td>\n",
              "    </tr>\n",
              "    <tr>\n",
              "      <th>30</th>\n",
              "      <td>Cidade Líder</td>\n",
              "      <td>130.255</td>\n",
              "      <td>-46.494333</td>\n",
              "      <td>-23.562770</td>\n",
              "    </tr>\n",
              "    <tr>\n",
              "      <th>11</th>\n",
              "      <td>Cidade Tiradentes</td>\n",
              "      <td>219.868</td>\n",
              "      <td>-46.409207</td>\n",
              "      <td>-23.582497</td>\n",
              "    </tr>\n",
              "    <tr>\n",
              "      <th>81</th>\n",
              "      <td>Consolação</td>\n",
              "      <td>44.991</td>\n",
              "      <td>-46.660493</td>\n",
              "      <td>-23.557735</td>\n",
              "    </tr>\n",
              "    <tr>\n",
              "      <th>54</th>\n",
              "      <td>Cursino</td>\n",
              "      <td>92.895</td>\n",
              "      <td>-46.619563</td>\n",
              "      <td>-23.632301</td>\n",
              "    </tr>\n",
              "    <tr>\n",
              "      <th>34</th>\n",
              "      <td>Ermelino Matarazzo</td>\n",
              "      <td>116.632</td>\n",
              "      <td>-46.484070</td>\n",
              "      <td>-23.491674</td>\n",
              "    </tr>\n",
              "    <tr>\n",
              "      <th>28</th>\n",
              "      <td>Freguesia do Ó</td>\n",
              "      <td>138.101</td>\n",
              "      <td>-46.695132</td>\n",
              "      <td>-23.487464</td>\n",
              "    </tr>\n",
              "    <tr>\n",
              "      <th>1</th>\n",
              "      <td>Grajaú</td>\n",
              "      <td>444.593</td>\n",
              "      <td>-46.665575</td>\n",
              "      <td>-23.785798</td>\n",
              "    </tr>\n",
              "    <tr>\n",
              "      <th>38</th>\n",
              "      <td>Guaianases</td>\n",
              "      <td>111.325</td>\n",
              "      <td>-46.415605</td>\n",
              "      <td>-23.542308</td>\n",
              "    </tr>\n",
              "    <tr>\n",
              "      <th>32</th>\n",
              "      <td>Iguatemi</td>\n",
              "      <td>126.645</td>\n",
              "      <td>-46.419028</td>\n",
              "      <td>-23.618271</td>\n",
              "    </tr>\n",
              "    <tr>\n",
              "      <th>50</th>\n",
              "      <td>Ipiranga</td>\n",
              "      <td>94.787</td>\n",
              "      <td>-46.606162</td>\n",
              "      <td>-23.589273</td>\n",
              "    </tr>\n",
              "    <tr>\n",
              "      <th>62</th>\n",
              "      <td>Itaim Bibi</td>\n",
              "      <td>80.501</td>\n",
              "      <td>-46.678444</td>\n",
              "      <td>-23.584381</td>\n",
              "    </tr>\n",
              "    <tr>\n",
              "      <th>8</th>\n",
              "      <td>Itaim Paulista</td>\n",
              "      <td>241.026</td>\n",
              "      <td>-46.399609</td>\n",
              "      <td>-23.501765</td>\n",
              "    </tr>\n",
              "    <tr>\n",
              "      <th>15</th>\n",
              "      <td>Itaquera</td>\n",
              "      <td>199.824</td>\n",
              "      <td>-46.455510</td>\n",
              "      <td>-23.536080</td>\n",
              "    </tr>\n",
              "    <tr>\n",
              "      <th>13</th>\n",
              "      <td>Jabaquara</td>\n",
              "      <td>212.504</td>\n",
              "      <td>-46.650037</td>\n",
              "      <td>-23.652066</td>\n",
              "    </tr>\n",
              "    <tr>\n",
              "      <th>92</th>\n",
              "      <td>Jaguara</td>\n",
              "      <td>24.114</td>\n",
              "      <td>-46.755315</td>\n",
              "      <td>-23.507446</td>\n",
              "    </tr>\n",
              "    <tr>\n",
              "      <th>83</th>\n",
              "      <td>Jaguaré</td>\n",
              "      <td>41.628</td>\n",
              "      <td>-46.749499</td>\n",
              "      <td>-23.542036</td>\n",
              "    </tr>\n",
              "    <tr>\n",
              "      <th>10</th>\n",
              "      <td>Jaraguá</td>\n",
              "      <td>220.292</td>\n",
              "      <td>-46.739512</td>\n",
              "      <td>-23.455682</td>\n",
              "    </tr>\n",
              "    <tr>\n",
              "      <th>24</th>\n",
              "      <td>Jardim Helena</td>\n",
              "      <td>153.634</td>\n",
              "      <td>-46.423410</td>\n",
              "      <td>-23.482284</td>\n",
              "    </tr>\n",
              "    <tr>\n",
              "      <th>64</th>\n",
              "      <td>Jardim Paulista</td>\n",
              "      <td>76.033</td>\n",
              "      <td>-46.740504</td>\n",
              "      <td>-22.195211</td>\n",
              "    </tr>\n",
              "    <tr>\n",
              "      <th>6</th>\n",
              "      <td>Jardim São Luís</td>\n",
              "      <td>261.586</td>\n",
              "      <td>-46.737762</td>\n",
              "      <td>-23.683573</td>\n",
              "    </tr>\n",
              "    <tr>\n",
              "      <th>3</th>\n",
              "      <td>Jardim Ângela</td>\n",
              "      <td>291.798</td>\n",
              "      <td>-46.771206</td>\n",
              "      <td>-23.712246</td>\n",
              "    </tr>\n",
              "    <tr>\n",
              "      <th>55</th>\n",
              "      <td>Jaçanã</td>\n",
              "      <td>92.836</td>\n",
              "      <td>-46.582423</td>\n",
              "      <td>-23.463959</td>\n",
              "    </tr>\n",
              "    <tr>\n",
              "      <th>40</th>\n",
              "      <td>José Bonifácio</td>\n",
              "      <td>108.366</td>\n",
              "      <td>-46.434767</td>\n",
              "      <td>-23.564091</td>\n",
              "    </tr>\n",
              "    <tr>\n",
              "      <th>17</th>\n",
              "      <td>Lajeado</td>\n",
              "      <td>185.184</td>\n",
              "      <td>-46.410022</td>\n",
              "      <td>-23.536248</td>\n",
              "    </tr>\n",
              "    <tr>\n",
              "      <th>75</th>\n",
              "      <td>Lapa</td>\n",
              "      <td>58.924</td>\n",
              "      <td>-46.704349</td>\n",
              "      <td>-23.521576</td>\n",
              "    </tr>\n",
              "    <tr>\n",
              "      <th>76</th>\n",
              "      <td>Liberdade</td>\n",
              "      <td>57.860</td>\n",
              "      <td>-46.631809</td>\n",
              "      <td>-23.566703</td>\n",
              "    </tr>\n",
              "    <tr>\n",
              "      <th>61</th>\n",
              "      <td>Limão</td>\n",
              "      <td>80.571</td>\n",
              "      <td>-46.675272</td>\n",
              "      <td>-23.503315</td>\n",
              "    </tr>\n",
              "    <tr>\n",
              "      <th>43</th>\n",
              "      <td>Mandaqui</td>\n",
              "      <td>101.994</td>\n",
              "      <td>-46.641243</td>\n",
              "      <td>-23.457940</td>\n",
              "    </tr>\n",
              "    <tr>\n",
              "      <th>96</th>\n",
              "      <td>Marsilac</td>\n",
              "      <td>10.180</td>\n",
              "      <td>-46.710230</td>\n",
              "      <td>-23.937142</td>\n",
              "    </tr>\n",
              "    <tr>\n",
              "      <th>67</th>\n",
              "      <td>Moema</td>\n",
              "      <td>71.459</td>\n",
              "      <td>-46.662888</td>\n",
              "      <td>-23.597085</td>\n",
              "    </tr>\n",
              "    <tr>\n",
              "      <th>71</th>\n",
              "      <td>Mooca</td>\n",
              "      <td>63.133</td>\n",
              "      <td>-46.597192</td>\n",
              "      <td>-23.560681</td>\n",
              "    </tr>\n",
              "    <tr>\n",
              "      <th>87</th>\n",
              "      <td>Morumbi</td>\n",
              "      <td>32.281</td>\n",
              "      <td>-46.702746</td>\n",
              "      <td>-23.622391</td>\n",
              "    </tr>\n",
              "    <tr>\n",
              "      <th>27</th>\n",
              "      <td>Parelheiros</td>\n",
              "      <td>146.212</td>\n",
              "      <td>-46.733078</td>\n",
              "      <td>-23.824791</td>\n",
              "    </tr>\n",
              "    <tr>\n",
              "      <th>94</th>\n",
              "      <td>Pari</td>\n",
              "      <td>16.144</td>\n",
              "      <td>-46.615849</td>\n",
              "      <td>-23.532976</td>\n",
              "    </tr>\n",
              "    <tr>\n",
              "      <th>69</th>\n",
              "      <td>Parque do Carmo</td>\n",
              "      <td>69.630</td>\n",
              "      <td>-46.458056</td>\n",
              "      <td>-23.578708</td>\n",
              "    </tr>\n",
              "    <tr>\n",
              "      <th>21</th>\n",
              "      <td>Pedreira</td>\n",
              "      <td>158.656</td>\n",
              "      <td>-46.894846</td>\n",
              "      <td>-22.741347</td>\n",
              "    </tr>\n",
              "    <tr>\n",
              "      <th>33</th>\n",
              "      <td>Penha</td>\n",
              "      <td>117.691</td>\n",
              "      <td>-46.543782</td>\n",
              "      <td>-23.523683</td>\n",
              "    </tr>\n",
              "    <tr>\n",
              "      <th>46</th>\n",
              "      <td>Perdizes</td>\n",
              "      <td>97.706</td>\n",
              "      <td>-46.680671</td>\n",
              "      <td>-23.537930</td>\n",
              "    </tr>\n",
              "    <tr>\n",
              "      <th>60</th>\n",
              "      <td>Perus</td>\n",
              "      <td>85.002</td>\n",
              "      <td>-46.743632</td>\n",
              "      <td>-23.408492</td>\n",
              "    </tr>\n",
              "    <tr>\n",
              "      <th>73</th>\n",
              "      <td>Pinheiros</td>\n",
              "      <td>61.711</td>\n",
              "      <td>-46.703149</td>\n",
              "      <td>-23.565935</td>\n",
              "    </tr>\n",
              "    <tr>\n",
              "      <th>19</th>\n",
              "      <td>Pirituba</td>\n",
              "      <td>163.696</td>\n",
              "      <td>-46.721939</td>\n",
              "      <td>-23.485533</td>\n",
              "    </tr>\n",
              "    <tr>\n",
              "      <th>51</th>\n",
              "      <td>Ponte Rasa</td>\n",
              "      <td>93.631</td>\n",
              "      <td>-46.487052</td>\n",
              "      <td>-23.511046</td>\n",
              "    </tr>\n",
              "    <tr>\n",
              "      <th>47</th>\n",
              "      <td>Raposo Tavares</td>\n",
              "      <td>96.914</td>\n",
              "      <td>-46.780607</td>\n",
              "      <td>-23.591765</td>\n",
              "    </tr>\n",
              "    <tr>\n",
              "      <th>82</th>\n",
              "      <td>República</td>\n",
              "      <td>42.802</td>\n",
              "      <td>-46.642640</td>\n",
              "      <td>-23.544023</td>\n",
              "    </tr>\n",
              "    <tr>\n",
              "      <th>35</th>\n",
              "      <td>Rio Pequeno</td>\n",
              "      <td>115.999</td>\n",
              "      <td>-46.769639</td>\n",
              "      <td>-23.579792</td>\n",
              "    </tr>\n",
              "    <tr>\n",
              "      <th>9</th>\n",
              "      <td>Sacomã</td>\n",
              "      <td>237.769</td>\n",
              "      <td>-46.602582</td>\n",
              "      <td>-23.601262</td>\n",
              "    </tr>\n",
              "    <tr>\n",
              "      <th>70</th>\n",
              "      <td>Santa Cecília</td>\n",
              "      <td>63.689</td>\n",
              "      <td>-46.649028</td>\n",
              "      <td>-23.539094</td>\n",
              "    </tr>\n",
              "    <tr>\n",
              "      <th>37</th>\n",
              "      <td>Santana</td>\n",
              "      <td>112.613</td>\n",
              "      <td>-46.624720</td>\n",
              "      <td>-23.502068</td>\n",
              "    </tr>\n",
              "    <tr>\n",
              "      <th>74</th>\n",
              "      <td>Santo Amaro</td>\n",
              "      <td>60.373</td>\n",
              "      <td>-46.699890</td>\n",
              "      <td>-23.642515</td>\n",
              "    </tr>\n",
              "    <tr>\n",
              "      <th>2</th>\n",
              "      <td>Sapopemba</td>\n",
              "      <td>296.042</td>\n",
              "      <td>-46.509885</td>\n",
              "      <td>-23.604326</td>\n",
              "    </tr>\n",
              "    <tr>\n",
              "      <th>39</th>\n",
              "      <td>Saúde</td>\n",
              "      <td>111.308</td>\n",
              "      <td>-46.643393</td>\n",
              "      <td>-23.615178</td>\n",
              "    </tr>\n",
              "    <tr>\n",
              "      <th>85</th>\n",
              "      <td>Socorro</td>\n",
              "      <td>36.691</td>\n",
              "      <td>-46.711436</td>\n",
              "      <td>-23.684560</td>\n",
              "    </tr>\n",
              "    <tr>\n",
              "      <th>56</th>\n",
              "      <td>São Domingos</td>\n",
              "      <td>90.777</td>\n",
              "      <td>-46.745581</td>\n",
              "      <td>-23.493763</td>\n",
              "    </tr>\n",
              "    <tr>\n",
              "      <th>29</th>\n",
              "      <td>São Lucas</td>\n",
              "      <td>136.175</td>\n",
              "      <td>-46.545900</td>\n",
              "      <td>-23.594946</td>\n",
              "    </tr>\n",
              "    <tr>\n",
              "      <th>22</th>\n",
              "      <td>São Mateus</td>\n",
              "      <td>158.533</td>\n",
              "      <td>-46.481705</td>\n",
              "      <td>-23.598299</td>\n",
              "    </tr>\n",
              "    <tr>\n",
              "      <th>52</th>\n",
              "      <td>São Miguel Paulista</td>\n",
              "      <td>93.187</td>\n",
              "      <td>-46.443666</td>\n",
              "      <td>-23.490554</td>\n",
              "    </tr>\n",
              "    <tr>\n",
              "      <th>26</th>\n",
              "      <td>São Rafael</td>\n",
              "      <td>151.017</td>\n",
              "      <td>-46.453241</td>\n",
              "      <td>-23.627159</td>\n",
              "    </tr>\n",
              "    <tr>\n",
              "      <th>93</th>\n",
              "      <td>Sé</td>\n",
              "      <td>21.564</td>\n",
              "      <td>-46.633446</td>\n",
              "      <td>-23.550443</td>\n",
              "    </tr>\n",
              "    <tr>\n",
              "      <th>66</th>\n",
              "      <td>Tatuapé</td>\n",
              "      <td>75.481</td>\n",
              "      <td>-46.575009</td>\n",
              "      <td>-23.540891</td>\n",
              "    </tr>\n",
              "    <tr>\n",
              "      <th>16</th>\n",
              "      <td>Tremembé</td>\n",
              "      <td>185.731</td>\n",
              "      <td>-45.547526</td>\n",
              "      <td>-22.957140</td>\n",
              "    </tr>\n",
              "    <tr>\n",
              "      <th>59</th>\n",
              "      <td>Tucuruvi</td>\n",
              "      <td>88.566</td>\n",
              "      <td>-46.603250</td>\n",
              "      <td>-23.480082</td>\n",
              "    </tr>\n",
              "    <tr>\n",
              "      <th>44</th>\n",
              "      <td>Vila Andrade</td>\n",
              "      <td>99.274</td>\n",
              "      <td>-46.726989</td>\n",
              "      <td>-23.625687</td>\n",
              "    </tr>\n",
              "    <tr>\n",
              "      <th>20</th>\n",
              "      <td>Vila Curuçá</td>\n",
              "      <td>162.486</td>\n",
              "      <td>-46.417893</td>\n",
              "      <td>-23.510151</td>\n",
              "    </tr>\n",
              "    <tr>\n",
              "      <th>58</th>\n",
              "      <td>Vila Formosa</td>\n",
              "      <td>89.510</td>\n",
              "      <td>-46.546323</td>\n",
              "      <td>-23.566876</td>\n",
              "    </tr>\n",
              "    <tr>\n",
              "      <th>79</th>\n",
              "      <td>Vila Guilherme</td>\n",
              "      <td>48.407</td>\n",
              "      <td>-46.607962</td>\n",
              "      <td>-23.517097</td>\n",
              "    </tr>\n",
              "    <tr>\n",
              "      <th>18</th>\n",
              "      <td>Vila Jacuí</td>\n",
              "      <td>167.965</td>\n",
              "      <td>-46.458717</td>\n",
              "      <td>-23.500294</td>\n",
              "    </tr>\n",
              "    <tr>\n",
              "      <th>88</th>\n",
              "      <td>Vila Leopoldina</td>\n",
              "      <td>30.188</td>\n",
              "      <td>-46.734319</td>\n",
              "      <td>-23.530072</td>\n",
              "    </tr>\n",
              "    <tr>\n",
              "      <th>41</th>\n",
              "      <td>Vila Maria</td>\n",
              "      <td>107.395</td>\n",
              "      <td>-46.589156</td>\n",
              "      <td>-23.513184</td>\n",
              "    </tr>\n",
              "    <tr>\n",
              "      <th>36</th>\n",
              "      <td>Vila Mariana</td>\n",
              "      <td>112.952</td>\n",
              "      <td>-46.634653</td>\n",
              "      <td>-23.589190</td>\n",
              "    </tr>\n",
              "    <tr>\n",
              "      <th>45</th>\n",
              "      <td>Vila Matilde</td>\n",
              "      <td>98.173</td>\n",
              "      <td>-46.524605</td>\n",
              "      <td>-23.536179</td>\n",
              "    </tr>\n",
              "    <tr>\n",
              "      <th>31</th>\n",
              "      <td>Vila Medeiros</td>\n",
              "      <td>128.692</td>\n",
              "      <td>-46.584496</td>\n",
              "      <td>-23.487707</td>\n",
              "    </tr>\n",
              "    <tr>\n",
              "      <th>49</th>\n",
              "      <td>Vila Prudente</td>\n",
              "      <td>96.441</td>\n",
              "      <td>-46.581956</td>\n",
              "      <td>-23.584416</td>\n",
              "    </tr>\n",
              "    <tr>\n",
              "      <th>57</th>\n",
              "      <td>Vila Sônia</td>\n",
              "      <td>89.927</td>\n",
              "      <td>-46.739162</td>\n",
              "      <td>-23.599935</td>\n",
              "    </tr>\n",
              "    <tr>\n",
              "      <th>63</th>\n",
              "      <td>Água Rasa</td>\n",
              "      <td>78.556</td>\n",
              "      <td>-46.573697</td>\n",
              "      <td>-23.565372</td>\n",
              "    </tr>\n",
              "  </tbody>\n",
              "</table>\n",
              "</div>"
            ],
            "text/plain": [
              "              Districts  Population  Longitude   Latitude\n",
              "84    Alto de Pinheiros      39.477 -46.707642 -23.549906\n",
              "78           Anhanguera      53.266 -46.788534 -23.432908\n",
              "53           Aricanduva      92.982 -46.511454 -23.578024\n",
              "42          Artur Alvim     104.864 -46.485265 -23.539221\n",
              "95          Barra Funda      12.977 -46.667513 -23.525462\n",
              "77           Bela Vista      57.204 -46.647766 -23.562210\n",
              "86                Belém      36.283 -46.595039 -23.538476\n",
              "90           Bom Retiro      28.591 -46.636835 -23.527138\n",
              "4           Brasilândia     280.069 -46.690269 -23.448272\n",
              "91                 Brás      26.587 -46.616336 -23.545114\n",
              "80              Butantã      48.040 -46.708090 -23.571900\n",
              "23         Cachoeirinha     157.408 -46.663636 -23.449337\n",
              "89              Cambuci      29.811 -46.613650 -23.566129\n",
              "72           Campo Belo      62.530 -46.669421 -23.626731\n",
              "48         Campo Grande      96.756 -46.687226 -23.675548\n",
              "12          Campo Limpo     216.098 -46.758729 -23.648880\n",
              "25             Cangaíba     151.538 -46.531425 -23.505900\n",
              "5         Capão Redondo     275.230 -46.767753 -23.658859\n",
              "68               Carrão      71.363 -46.537791 -23.551530\n",
              "65           Casa Verde      75.687 -46.656138 -23.505927\n",
              "7         Cidade Ademar     248.215 -46.655281 -23.673012\n",
              "14         Cidade Dutra     203.473 -46.699088 -23.713964\n",
              "30         Cidade Líder     130.255 -46.494333 -23.562770\n",
              "11    Cidade Tiradentes     219.868 -46.409207 -23.582497\n",
              "81           Consolação      44.991 -46.660493 -23.557735\n",
              "54              Cursino      92.895 -46.619563 -23.632301\n",
              "34   Ermelino Matarazzo     116.632 -46.484070 -23.491674\n",
              "28       Freguesia do Ó     138.101 -46.695132 -23.487464\n",
              "1                Grajaú     444.593 -46.665575 -23.785798\n",
              "38           Guaianases     111.325 -46.415605 -23.542308\n",
              "32             Iguatemi     126.645 -46.419028 -23.618271\n",
              "50             Ipiranga      94.787 -46.606162 -23.589273\n",
              "62           Itaim Bibi      80.501 -46.678444 -23.584381\n",
              "8        Itaim Paulista     241.026 -46.399609 -23.501765\n",
              "15             Itaquera     199.824 -46.455510 -23.536080\n",
              "13            Jabaquara     212.504 -46.650037 -23.652066\n",
              "92              Jaguara      24.114 -46.755315 -23.507446\n",
              "83              Jaguaré      41.628 -46.749499 -23.542036\n",
              "10              Jaraguá     220.292 -46.739512 -23.455682\n",
              "24        Jardim Helena     153.634 -46.423410 -23.482284\n",
              "64      Jardim Paulista      76.033 -46.740504 -22.195211\n",
              "6       Jardim São Luís     261.586 -46.737762 -23.683573\n",
              "3         Jardim Ângela     291.798 -46.771206 -23.712246\n",
              "55               Jaçanã      92.836 -46.582423 -23.463959\n",
              "40       José Bonifácio     108.366 -46.434767 -23.564091\n",
              "17              Lajeado     185.184 -46.410022 -23.536248\n",
              "75                 Lapa      58.924 -46.704349 -23.521576\n",
              "76            Liberdade      57.860 -46.631809 -23.566703\n",
              "61                Limão      80.571 -46.675272 -23.503315\n",
              "43             Mandaqui     101.994 -46.641243 -23.457940\n",
              "96             Marsilac      10.180 -46.710230 -23.937142\n",
              "67                Moema      71.459 -46.662888 -23.597085\n",
              "71                Mooca      63.133 -46.597192 -23.560681\n",
              "87              Morumbi      32.281 -46.702746 -23.622391\n",
              "27          Parelheiros     146.212 -46.733078 -23.824791\n",
              "94                 Pari      16.144 -46.615849 -23.532976\n",
              "69      Parque do Carmo      69.630 -46.458056 -23.578708\n",
              "21             Pedreira     158.656 -46.894846 -22.741347\n",
              "33                Penha     117.691 -46.543782 -23.523683\n",
              "46             Perdizes      97.706 -46.680671 -23.537930\n",
              "60                Perus      85.002 -46.743632 -23.408492\n",
              "73            Pinheiros      61.711 -46.703149 -23.565935\n",
              "19             Pirituba     163.696 -46.721939 -23.485533\n",
              "51           Ponte Rasa      93.631 -46.487052 -23.511046\n",
              "47       Raposo Tavares      96.914 -46.780607 -23.591765\n",
              "82            República      42.802 -46.642640 -23.544023\n",
              "35          Rio Pequeno     115.999 -46.769639 -23.579792\n",
              "9                Sacomã     237.769 -46.602582 -23.601262\n",
              "70        Santa Cecília      63.689 -46.649028 -23.539094\n",
              "37              Santana     112.613 -46.624720 -23.502068\n",
              "74          Santo Amaro      60.373 -46.699890 -23.642515\n",
              "2             Sapopemba     296.042 -46.509885 -23.604326\n",
              "39                Saúde     111.308 -46.643393 -23.615178\n",
              "85              Socorro      36.691 -46.711436 -23.684560\n",
              "56         São Domingos      90.777 -46.745581 -23.493763\n",
              "29            São Lucas     136.175 -46.545900 -23.594946\n",
              "22           São Mateus     158.533 -46.481705 -23.598299\n",
              "52  São Miguel Paulista      93.187 -46.443666 -23.490554\n",
              "26           São Rafael     151.017 -46.453241 -23.627159\n",
              "93                   Sé      21.564 -46.633446 -23.550443\n",
              "66              Tatuapé      75.481 -46.575009 -23.540891\n",
              "16             Tremembé     185.731 -45.547526 -22.957140\n",
              "59             Tucuruvi      88.566 -46.603250 -23.480082\n",
              "44         Vila Andrade      99.274 -46.726989 -23.625687\n",
              "20          Vila Curuçá     162.486 -46.417893 -23.510151\n",
              "58         Vila Formosa      89.510 -46.546323 -23.566876\n",
              "79       Vila Guilherme      48.407 -46.607962 -23.517097\n",
              "18           Vila Jacuí     167.965 -46.458717 -23.500294\n",
              "88      Vila Leopoldina      30.188 -46.734319 -23.530072\n",
              "41           Vila Maria     107.395 -46.589156 -23.513184\n",
              "36         Vila Mariana     112.952 -46.634653 -23.589190\n",
              "45         Vila Matilde      98.173 -46.524605 -23.536179\n",
              "31        Vila Medeiros     128.692 -46.584496 -23.487707\n",
              "49        Vila Prudente      96.441 -46.581956 -23.584416\n",
              "57           Vila Sônia      89.927 -46.739162 -23.599935\n",
              "63            Água Rasa      78.556 -46.573697 -23.565372"
            ]
          },
          "metadata": {},
          "execution_count": 60
        }
      ]
    },
    {
      "cell_type": "markdown",
      "metadata": {
        "id": "Y1hz2xjyHsW1"
      },
      "source": [
        "### <font color='gray'> info() mostra os tipos das colunas e se todos os dados estão preenchidos </font>"
      ]
    },
    {
      "cell_type": "code",
      "metadata": {
        "scrolled": true,
        "colab": {
          "base_uri": "https://localhost:8080/"
        },
        "id": "2OTbwqoGHsW1",
        "outputId": "f736d244-2edb-4500-8fc8-238484b6286e"
      },
      "source": [
        "dfBairros.info()"
      ],
      "execution_count": 62,
      "outputs": [
        {
          "output_type": "stream",
          "name": "stdout",
          "text": [
            "<class 'pandas.core.frame.DataFrame'>\n",
            "Int64Index: 96 entries, 1 to 96\n",
            "Data columns (total 4 columns):\n",
            " #   Column      Non-Null Count  Dtype  \n",
            "---  ------      --------------  -----  \n",
            " 0   Districts   96 non-null     object \n",
            " 1   Population  96 non-null     float64\n",
            " 2   Longitude   96 non-null     float64\n",
            " 3   Latitude    96 non-null     float64\n",
            "dtypes: float64(3), object(1)\n",
            "memory usage: 3.8+ KB\n"
          ]
        }
      ]
    },
    {
      "cell_type": "markdown",
      "metadata": {
        "id": "mejyhbxdHsW2"
      },
      "source": [
        "### <font color='gray'> describe() mostra um resumo estatístico das variáveis numéricas </font>"
      ]
    },
    {
      "cell_type": "code",
      "metadata": {
        "colab": {
          "base_uri": "https://localhost:8080/",
          "height": 295
        },
        "id": "OO0TD_P2HsW2",
        "outputId": "b9cd27f1-3944-49b4-a63c-3882eebb5ea3"
      },
      "source": [
        "dfBairros.describe()"
      ],
      "execution_count": 64,
      "outputs": [
        {
          "output_type": "execute_result",
          "data": {
            "text/html": [
              "<div>\n",
              "<style scoped>\n",
              "    .dataframe tbody tr th:only-of-type {\n",
              "        vertical-align: middle;\n",
              "    }\n",
              "\n",
              "    .dataframe tbody tr th {\n",
              "        vertical-align: top;\n",
              "    }\n",
              "\n",
              "    .dataframe thead th {\n",
              "        text-align: right;\n",
              "    }\n",
              "</style>\n",
              "<table border=\"1\" class=\"dataframe\">\n",
              "  <thead>\n",
              "    <tr style=\"text-align: right;\">\n",
              "      <th></th>\n",
              "      <th>Population</th>\n",
              "      <th>Longitude</th>\n",
              "      <th>Latitude</th>\n",
              "    </tr>\n",
              "  </thead>\n",
              "  <tbody>\n",
              "    <tr>\n",
              "      <th>count</th>\n",
              "      <td>96.000000</td>\n",
              "      <td>96.000000</td>\n",
              "      <td>96.000000</td>\n",
              "    </tr>\n",
              "    <tr>\n",
              "      <th>mean</th>\n",
              "      <td>115.099427</td>\n",
              "      <td>-46.610239</td>\n",
              "      <td>-23.536488</td>\n",
              "    </tr>\n",
              "    <tr>\n",
              "      <th>std</th>\n",
              "      <td>76.747126</td>\n",
              "      <td>0.154726</td>\n",
              "      <td>0.191037</td>\n",
              "    </tr>\n",
              "    <tr>\n",
              "      <th>min</th>\n",
              "      <td>10.180000</td>\n",
              "      <td>-46.894846</td>\n",
              "      <td>-23.937142</td>\n",
              "    </tr>\n",
              "    <tr>\n",
              "      <th>25%</th>\n",
              "      <td>62.325250</td>\n",
              "      <td>-46.703449</td>\n",
              "      <td>-23.597389</td>\n",
              "    </tr>\n",
              "    <tr>\n",
              "      <th>50%</th>\n",
              "      <td>96.598500</td>\n",
              "      <td>-46.639039</td>\n",
              "      <td>-23.550175</td>\n",
              "    </tr>\n",
              "    <tr>\n",
              "      <th>75%</th>\n",
              "      <td>152.062000</td>\n",
              "      <td>-46.542284</td>\n",
              "      <td>-23.507066</td>\n",
              "    </tr>\n",
              "    <tr>\n",
              "      <th>max</th>\n",
              "      <td>444.593000</td>\n",
              "      <td>-45.547526</td>\n",
              "      <td>-22.195211</td>\n",
              "    </tr>\n",
              "  </tbody>\n",
              "</table>\n",
              "</div>"
            ],
            "text/plain": [
              "       Population  Longitude   Latitude\n",
              "count   96.000000  96.000000  96.000000\n",
              "mean   115.099427 -46.610239 -23.536488\n",
              "std     76.747126   0.154726   0.191037\n",
              "min     10.180000 -46.894846 -23.937142\n",
              "25%     62.325250 -46.703449 -23.597389\n",
              "50%     96.598500 -46.639039 -23.550175\n",
              "75%    152.062000 -46.542284 -23.507066\n",
              "max    444.593000 -45.547526 -22.195211"
            ]
          },
          "metadata": {},
          "execution_count": 64
        }
      ]
    },
    {
      "cell_type": "markdown",
      "metadata": {
        "id": "CmILuqsMHsW2"
      },
      "source": [
        "## 4.3 - Recuperar informações de um dataframe com o PANDAS"
      ]
    },
    {
      "cell_type": "markdown",
      "metadata": {
        "id": "KFlBMBfNHsW2"
      },
      "source": [
        "### <font color='gray'> seleção de dados por coluna </font>"
      ]
    },
    {
      "cell_type": "code",
      "metadata": {
        "scrolled": true,
        "colab": {
          "base_uri": "https://localhost:8080/"
        },
        "id": "sCtDS5VTHsW3",
        "outputId": "d6201644-3f05-46b0-c46b-048246123900"
      },
      "source": [
        "dfBairros['Districts']"
      ],
      "execution_count": 65,
      "outputs": [
        {
          "output_type": "execute_result",
          "data": {
            "text/plain": [
              "1                  Grajaú\n",
              "2               Sapopemba\n",
              "3           Jardim Ângela\n",
              "4             Brasilândia\n",
              "5           Capão Redondo\n",
              "6         Jardim São Luís\n",
              "7           Cidade Ademar\n",
              "8          Itaim Paulista\n",
              "9                  Sacomã\n",
              "10                Jaraguá\n",
              "11      Cidade Tiradentes\n",
              "12            Campo Limpo\n",
              "13              Jabaquara\n",
              "14           Cidade Dutra\n",
              "15               Itaquera\n",
              "16               Tremembé\n",
              "17                Lajeado\n",
              "18             Vila Jacuí\n",
              "19               Pirituba\n",
              "20            Vila Curuçá\n",
              "21               Pedreira\n",
              "22             São Mateus\n",
              "23           Cachoeirinha\n",
              "24          Jardim Helena\n",
              "25               Cangaíba\n",
              "26             São Rafael\n",
              "27            Parelheiros\n",
              "28         Freguesia do Ó\n",
              "29              São Lucas\n",
              "30           Cidade Líder\n",
              "31          Vila Medeiros\n",
              "32               Iguatemi\n",
              "33                  Penha\n",
              "34     Ermelino Matarazzo\n",
              "35            Rio Pequeno\n",
              "36           Vila Mariana\n",
              "37                Santana\n",
              "38             Guaianases\n",
              "39                  Saúde\n",
              "40         José Bonifácio\n",
              "41             Vila Maria\n",
              "42            Artur Alvim\n",
              "43               Mandaqui\n",
              "44           Vila Andrade\n",
              "45           Vila Matilde\n",
              "46               Perdizes\n",
              "47         Raposo Tavares\n",
              "48           Campo Grande\n",
              "49          Vila Prudente\n",
              "50               Ipiranga\n",
              "51             Ponte Rasa\n",
              "52    São Miguel Paulista\n",
              "53             Aricanduva\n",
              "54                Cursino\n",
              "55                 Jaçanã\n",
              "56           São Domingos\n",
              "57             Vila Sônia\n",
              "58           Vila Formosa\n",
              "59               Tucuruvi\n",
              "60                  Perus\n",
              "61                  Limão\n",
              "62             Itaim Bibi\n",
              "63              Água Rasa\n",
              "64        Jardim Paulista\n",
              "65             Casa Verde\n",
              "66                Tatuapé\n",
              "67                  Moema\n",
              "68                 Carrão\n",
              "69        Parque do Carmo\n",
              "70          Santa Cecília\n",
              "71                  Mooca\n",
              "72             Campo Belo\n",
              "73              Pinheiros\n",
              "74            Santo Amaro\n",
              "75                   Lapa\n",
              "76              Liberdade\n",
              "77             Bela Vista\n",
              "78             Anhanguera\n",
              "79         Vila Guilherme\n",
              "80                Butantã\n",
              "81             Consolação\n",
              "82              República\n",
              "83                Jaguaré\n",
              "84      Alto de Pinheiros\n",
              "85                Socorro\n",
              "86                  Belém\n",
              "87                Morumbi\n",
              "88        Vila Leopoldina\n",
              "89                Cambuci\n",
              "90             Bom Retiro\n",
              "91                   Brás\n",
              "92                Jaguara\n",
              "93                     Sé\n",
              "94                   Pari\n",
              "95            Barra Funda\n",
              "96               Marsilac\n",
              "Name: Districts, dtype: object"
            ]
          },
          "metadata": {},
          "execution_count": 65
        }
      ]
    },
    {
      "cell_type": "markdown",
      "metadata": {
        "id": "WUJFCYilHsW3"
      },
      "source": [
        "### <font color='gray'> seleção de múltiplas colunas </font>"
      ]
    },
    {
      "cell_type": "code",
      "metadata": {
        "colab": {
          "base_uri": "https://localhost:8080/",
          "height": 1000
        },
        "id": "Hx-kVnllHsW3",
        "outputId": "b370c185-7891-4849-b1e7-cb6e347972eb"
      },
      "source": [
        "dfBairros[['Latitude', 'Longitude']]"
      ],
      "execution_count": 66,
      "outputs": [
        {
          "output_type": "execute_result",
          "data": {
            "text/html": [
              "<div>\n",
              "<style scoped>\n",
              "    .dataframe tbody tr th:only-of-type {\n",
              "        vertical-align: middle;\n",
              "    }\n",
              "\n",
              "    .dataframe tbody tr th {\n",
              "        vertical-align: top;\n",
              "    }\n",
              "\n",
              "    .dataframe thead th {\n",
              "        text-align: right;\n",
              "    }\n",
              "</style>\n",
              "<table border=\"1\" class=\"dataframe\">\n",
              "  <thead>\n",
              "    <tr style=\"text-align: right;\">\n",
              "      <th></th>\n",
              "      <th>Latitude</th>\n",
              "      <th>Longitude</th>\n",
              "    </tr>\n",
              "  </thead>\n",
              "  <tbody>\n",
              "    <tr>\n",
              "      <th>1</th>\n",
              "      <td>-23.785798</td>\n",
              "      <td>-46.665575</td>\n",
              "    </tr>\n",
              "    <tr>\n",
              "      <th>2</th>\n",
              "      <td>-23.604326</td>\n",
              "      <td>-46.509885</td>\n",
              "    </tr>\n",
              "    <tr>\n",
              "      <th>3</th>\n",
              "      <td>-23.712246</td>\n",
              "      <td>-46.771206</td>\n",
              "    </tr>\n",
              "    <tr>\n",
              "      <th>4</th>\n",
              "      <td>-23.448272</td>\n",
              "      <td>-46.690269</td>\n",
              "    </tr>\n",
              "    <tr>\n",
              "      <th>5</th>\n",
              "      <td>-23.658859</td>\n",
              "      <td>-46.767753</td>\n",
              "    </tr>\n",
              "    <tr>\n",
              "      <th>6</th>\n",
              "      <td>-23.683573</td>\n",
              "      <td>-46.737762</td>\n",
              "    </tr>\n",
              "    <tr>\n",
              "      <th>7</th>\n",
              "      <td>-23.673012</td>\n",
              "      <td>-46.655281</td>\n",
              "    </tr>\n",
              "    <tr>\n",
              "      <th>8</th>\n",
              "      <td>-23.501765</td>\n",
              "      <td>-46.399609</td>\n",
              "    </tr>\n",
              "    <tr>\n",
              "      <th>9</th>\n",
              "      <td>-23.601262</td>\n",
              "      <td>-46.602582</td>\n",
              "    </tr>\n",
              "    <tr>\n",
              "      <th>10</th>\n",
              "      <td>-23.455682</td>\n",
              "      <td>-46.739512</td>\n",
              "    </tr>\n",
              "    <tr>\n",
              "      <th>11</th>\n",
              "      <td>-23.582497</td>\n",
              "      <td>-46.409207</td>\n",
              "    </tr>\n",
              "    <tr>\n",
              "      <th>12</th>\n",
              "      <td>-23.648880</td>\n",
              "      <td>-46.758729</td>\n",
              "    </tr>\n",
              "    <tr>\n",
              "      <th>13</th>\n",
              "      <td>-23.652066</td>\n",
              "      <td>-46.650037</td>\n",
              "    </tr>\n",
              "    <tr>\n",
              "      <th>14</th>\n",
              "      <td>-23.713964</td>\n",
              "      <td>-46.699088</td>\n",
              "    </tr>\n",
              "    <tr>\n",
              "      <th>15</th>\n",
              "      <td>-23.536080</td>\n",
              "      <td>-46.455510</td>\n",
              "    </tr>\n",
              "    <tr>\n",
              "      <th>16</th>\n",
              "      <td>-22.957140</td>\n",
              "      <td>-45.547526</td>\n",
              "    </tr>\n",
              "    <tr>\n",
              "      <th>17</th>\n",
              "      <td>-23.536248</td>\n",
              "      <td>-46.410022</td>\n",
              "    </tr>\n",
              "    <tr>\n",
              "      <th>18</th>\n",
              "      <td>-23.500294</td>\n",
              "      <td>-46.458717</td>\n",
              "    </tr>\n",
              "    <tr>\n",
              "      <th>19</th>\n",
              "      <td>-23.485533</td>\n",
              "      <td>-46.721939</td>\n",
              "    </tr>\n",
              "    <tr>\n",
              "      <th>20</th>\n",
              "      <td>-23.510151</td>\n",
              "      <td>-46.417893</td>\n",
              "    </tr>\n",
              "    <tr>\n",
              "      <th>21</th>\n",
              "      <td>-22.741347</td>\n",
              "      <td>-46.894846</td>\n",
              "    </tr>\n",
              "    <tr>\n",
              "      <th>22</th>\n",
              "      <td>-23.598299</td>\n",
              "      <td>-46.481705</td>\n",
              "    </tr>\n",
              "    <tr>\n",
              "      <th>23</th>\n",
              "      <td>-23.449337</td>\n",
              "      <td>-46.663636</td>\n",
              "    </tr>\n",
              "    <tr>\n",
              "      <th>24</th>\n",
              "      <td>-23.482284</td>\n",
              "      <td>-46.423410</td>\n",
              "    </tr>\n",
              "    <tr>\n",
              "      <th>25</th>\n",
              "      <td>-23.505900</td>\n",
              "      <td>-46.531425</td>\n",
              "    </tr>\n",
              "    <tr>\n",
              "      <th>26</th>\n",
              "      <td>-23.627159</td>\n",
              "      <td>-46.453241</td>\n",
              "    </tr>\n",
              "    <tr>\n",
              "      <th>27</th>\n",
              "      <td>-23.824791</td>\n",
              "      <td>-46.733078</td>\n",
              "    </tr>\n",
              "    <tr>\n",
              "      <th>28</th>\n",
              "      <td>-23.487464</td>\n",
              "      <td>-46.695132</td>\n",
              "    </tr>\n",
              "    <tr>\n",
              "      <th>29</th>\n",
              "      <td>-23.594946</td>\n",
              "      <td>-46.545900</td>\n",
              "    </tr>\n",
              "    <tr>\n",
              "      <th>30</th>\n",
              "      <td>-23.562770</td>\n",
              "      <td>-46.494333</td>\n",
              "    </tr>\n",
              "    <tr>\n",
              "      <th>31</th>\n",
              "      <td>-23.487707</td>\n",
              "      <td>-46.584496</td>\n",
              "    </tr>\n",
              "    <tr>\n",
              "      <th>32</th>\n",
              "      <td>-23.618271</td>\n",
              "      <td>-46.419028</td>\n",
              "    </tr>\n",
              "    <tr>\n",
              "      <th>33</th>\n",
              "      <td>-23.523683</td>\n",
              "      <td>-46.543782</td>\n",
              "    </tr>\n",
              "    <tr>\n",
              "      <th>34</th>\n",
              "      <td>-23.491674</td>\n",
              "      <td>-46.484070</td>\n",
              "    </tr>\n",
              "    <tr>\n",
              "      <th>35</th>\n",
              "      <td>-23.579792</td>\n",
              "      <td>-46.769639</td>\n",
              "    </tr>\n",
              "    <tr>\n",
              "      <th>36</th>\n",
              "      <td>-23.589190</td>\n",
              "      <td>-46.634653</td>\n",
              "    </tr>\n",
              "    <tr>\n",
              "      <th>37</th>\n",
              "      <td>-23.502068</td>\n",
              "      <td>-46.624720</td>\n",
              "    </tr>\n",
              "    <tr>\n",
              "      <th>38</th>\n",
              "      <td>-23.542308</td>\n",
              "      <td>-46.415605</td>\n",
              "    </tr>\n",
              "    <tr>\n",
              "      <th>39</th>\n",
              "      <td>-23.615178</td>\n",
              "      <td>-46.643393</td>\n",
              "    </tr>\n",
              "    <tr>\n",
              "      <th>40</th>\n",
              "      <td>-23.564091</td>\n",
              "      <td>-46.434767</td>\n",
              "    </tr>\n",
              "    <tr>\n",
              "      <th>41</th>\n",
              "      <td>-23.513184</td>\n",
              "      <td>-46.589156</td>\n",
              "    </tr>\n",
              "    <tr>\n",
              "      <th>42</th>\n",
              "      <td>-23.539221</td>\n",
              "      <td>-46.485265</td>\n",
              "    </tr>\n",
              "    <tr>\n",
              "      <th>43</th>\n",
              "      <td>-23.457940</td>\n",
              "      <td>-46.641243</td>\n",
              "    </tr>\n",
              "    <tr>\n",
              "      <th>44</th>\n",
              "      <td>-23.625687</td>\n",
              "      <td>-46.726989</td>\n",
              "    </tr>\n",
              "    <tr>\n",
              "      <th>45</th>\n",
              "      <td>-23.536179</td>\n",
              "      <td>-46.524605</td>\n",
              "    </tr>\n",
              "    <tr>\n",
              "      <th>46</th>\n",
              "      <td>-23.537930</td>\n",
              "      <td>-46.680671</td>\n",
              "    </tr>\n",
              "    <tr>\n",
              "      <th>47</th>\n",
              "      <td>-23.591765</td>\n",
              "      <td>-46.780607</td>\n",
              "    </tr>\n",
              "    <tr>\n",
              "      <th>48</th>\n",
              "      <td>-23.675548</td>\n",
              "      <td>-46.687226</td>\n",
              "    </tr>\n",
              "    <tr>\n",
              "      <th>49</th>\n",
              "      <td>-23.584416</td>\n",
              "      <td>-46.581956</td>\n",
              "    </tr>\n",
              "    <tr>\n",
              "      <th>50</th>\n",
              "      <td>-23.589273</td>\n",
              "      <td>-46.606162</td>\n",
              "    </tr>\n",
              "    <tr>\n",
              "      <th>51</th>\n",
              "      <td>-23.511046</td>\n",
              "      <td>-46.487052</td>\n",
              "    </tr>\n",
              "    <tr>\n",
              "      <th>52</th>\n",
              "      <td>-23.490554</td>\n",
              "      <td>-46.443666</td>\n",
              "    </tr>\n",
              "    <tr>\n",
              "      <th>53</th>\n",
              "      <td>-23.578024</td>\n",
              "      <td>-46.511454</td>\n",
              "    </tr>\n",
              "    <tr>\n",
              "      <th>54</th>\n",
              "      <td>-23.632301</td>\n",
              "      <td>-46.619563</td>\n",
              "    </tr>\n",
              "    <tr>\n",
              "      <th>55</th>\n",
              "      <td>-23.463959</td>\n",
              "      <td>-46.582423</td>\n",
              "    </tr>\n",
              "    <tr>\n",
              "      <th>56</th>\n",
              "      <td>-23.493763</td>\n",
              "      <td>-46.745581</td>\n",
              "    </tr>\n",
              "    <tr>\n",
              "      <th>57</th>\n",
              "      <td>-23.599935</td>\n",
              "      <td>-46.739162</td>\n",
              "    </tr>\n",
              "    <tr>\n",
              "      <th>58</th>\n",
              "      <td>-23.566876</td>\n",
              "      <td>-46.546323</td>\n",
              "    </tr>\n",
              "    <tr>\n",
              "      <th>59</th>\n",
              "      <td>-23.480082</td>\n",
              "      <td>-46.603250</td>\n",
              "    </tr>\n",
              "    <tr>\n",
              "      <th>60</th>\n",
              "      <td>-23.408492</td>\n",
              "      <td>-46.743632</td>\n",
              "    </tr>\n",
              "    <tr>\n",
              "      <th>61</th>\n",
              "      <td>-23.503315</td>\n",
              "      <td>-46.675272</td>\n",
              "    </tr>\n",
              "    <tr>\n",
              "      <th>62</th>\n",
              "      <td>-23.584381</td>\n",
              "      <td>-46.678444</td>\n",
              "    </tr>\n",
              "    <tr>\n",
              "      <th>63</th>\n",
              "      <td>-23.565372</td>\n",
              "      <td>-46.573697</td>\n",
              "    </tr>\n",
              "    <tr>\n",
              "      <th>64</th>\n",
              "      <td>-22.195211</td>\n",
              "      <td>-46.740504</td>\n",
              "    </tr>\n",
              "    <tr>\n",
              "      <th>65</th>\n",
              "      <td>-23.505927</td>\n",
              "      <td>-46.656138</td>\n",
              "    </tr>\n",
              "    <tr>\n",
              "      <th>66</th>\n",
              "      <td>-23.540891</td>\n",
              "      <td>-46.575009</td>\n",
              "    </tr>\n",
              "    <tr>\n",
              "      <th>67</th>\n",
              "      <td>-23.597085</td>\n",
              "      <td>-46.662888</td>\n",
              "    </tr>\n",
              "    <tr>\n",
              "      <th>68</th>\n",
              "      <td>-23.551530</td>\n",
              "      <td>-46.537791</td>\n",
              "    </tr>\n",
              "    <tr>\n",
              "      <th>69</th>\n",
              "      <td>-23.578708</td>\n",
              "      <td>-46.458056</td>\n",
              "    </tr>\n",
              "    <tr>\n",
              "      <th>70</th>\n",
              "      <td>-23.539094</td>\n",
              "      <td>-46.649028</td>\n",
              "    </tr>\n",
              "    <tr>\n",
              "      <th>71</th>\n",
              "      <td>-23.560681</td>\n",
              "      <td>-46.597192</td>\n",
              "    </tr>\n",
              "    <tr>\n",
              "      <th>72</th>\n",
              "      <td>-23.626731</td>\n",
              "      <td>-46.669421</td>\n",
              "    </tr>\n",
              "    <tr>\n",
              "      <th>73</th>\n",
              "      <td>-23.565935</td>\n",
              "      <td>-46.703149</td>\n",
              "    </tr>\n",
              "    <tr>\n",
              "      <th>74</th>\n",
              "      <td>-23.642515</td>\n",
              "      <td>-46.699890</td>\n",
              "    </tr>\n",
              "    <tr>\n",
              "      <th>75</th>\n",
              "      <td>-23.521576</td>\n",
              "      <td>-46.704349</td>\n",
              "    </tr>\n",
              "    <tr>\n",
              "      <th>76</th>\n",
              "      <td>-23.566703</td>\n",
              "      <td>-46.631809</td>\n",
              "    </tr>\n",
              "    <tr>\n",
              "      <th>77</th>\n",
              "      <td>-23.562210</td>\n",
              "      <td>-46.647766</td>\n",
              "    </tr>\n",
              "    <tr>\n",
              "      <th>78</th>\n",
              "      <td>-23.432908</td>\n",
              "      <td>-46.788534</td>\n",
              "    </tr>\n",
              "    <tr>\n",
              "      <th>79</th>\n",
              "      <td>-23.517097</td>\n",
              "      <td>-46.607962</td>\n",
              "    </tr>\n",
              "    <tr>\n",
              "      <th>80</th>\n",
              "      <td>-23.571900</td>\n",
              "      <td>-46.708090</td>\n",
              "    </tr>\n",
              "    <tr>\n",
              "      <th>81</th>\n",
              "      <td>-23.557735</td>\n",
              "      <td>-46.660493</td>\n",
              "    </tr>\n",
              "    <tr>\n",
              "      <th>82</th>\n",
              "      <td>-23.544023</td>\n",
              "      <td>-46.642640</td>\n",
              "    </tr>\n",
              "    <tr>\n",
              "      <th>83</th>\n",
              "      <td>-23.542036</td>\n",
              "      <td>-46.749499</td>\n",
              "    </tr>\n",
              "    <tr>\n",
              "      <th>84</th>\n",
              "      <td>-23.549906</td>\n",
              "      <td>-46.707642</td>\n",
              "    </tr>\n",
              "    <tr>\n",
              "      <th>85</th>\n",
              "      <td>-23.684560</td>\n",
              "      <td>-46.711436</td>\n",
              "    </tr>\n",
              "    <tr>\n",
              "      <th>86</th>\n",
              "      <td>-23.538476</td>\n",
              "      <td>-46.595039</td>\n",
              "    </tr>\n",
              "    <tr>\n",
              "      <th>87</th>\n",
              "      <td>-23.622391</td>\n",
              "      <td>-46.702746</td>\n",
              "    </tr>\n",
              "    <tr>\n",
              "      <th>88</th>\n",
              "      <td>-23.530072</td>\n",
              "      <td>-46.734319</td>\n",
              "    </tr>\n",
              "    <tr>\n",
              "      <th>89</th>\n",
              "      <td>-23.566129</td>\n",
              "      <td>-46.613650</td>\n",
              "    </tr>\n",
              "    <tr>\n",
              "      <th>90</th>\n",
              "      <td>-23.527138</td>\n",
              "      <td>-46.636835</td>\n",
              "    </tr>\n",
              "    <tr>\n",
              "      <th>91</th>\n",
              "      <td>-23.545114</td>\n",
              "      <td>-46.616336</td>\n",
              "    </tr>\n",
              "    <tr>\n",
              "      <th>92</th>\n",
              "      <td>-23.507446</td>\n",
              "      <td>-46.755315</td>\n",
              "    </tr>\n",
              "    <tr>\n",
              "      <th>93</th>\n",
              "      <td>-23.550443</td>\n",
              "      <td>-46.633446</td>\n",
              "    </tr>\n",
              "    <tr>\n",
              "      <th>94</th>\n",
              "      <td>-23.532976</td>\n",
              "      <td>-46.615849</td>\n",
              "    </tr>\n",
              "    <tr>\n",
              "      <th>95</th>\n",
              "      <td>-23.525462</td>\n",
              "      <td>-46.667513</td>\n",
              "    </tr>\n",
              "    <tr>\n",
              "      <th>96</th>\n",
              "      <td>-23.937142</td>\n",
              "      <td>-46.710230</td>\n",
              "    </tr>\n",
              "  </tbody>\n",
              "</table>\n",
              "</div>"
            ],
            "text/plain": [
              "     Latitude  Longitude\n",
              "1  -23.785798 -46.665575\n",
              "2  -23.604326 -46.509885\n",
              "3  -23.712246 -46.771206\n",
              "4  -23.448272 -46.690269\n",
              "5  -23.658859 -46.767753\n",
              "6  -23.683573 -46.737762\n",
              "7  -23.673012 -46.655281\n",
              "8  -23.501765 -46.399609\n",
              "9  -23.601262 -46.602582\n",
              "10 -23.455682 -46.739512\n",
              "11 -23.582497 -46.409207\n",
              "12 -23.648880 -46.758729\n",
              "13 -23.652066 -46.650037\n",
              "14 -23.713964 -46.699088\n",
              "15 -23.536080 -46.455510\n",
              "16 -22.957140 -45.547526\n",
              "17 -23.536248 -46.410022\n",
              "18 -23.500294 -46.458717\n",
              "19 -23.485533 -46.721939\n",
              "20 -23.510151 -46.417893\n",
              "21 -22.741347 -46.894846\n",
              "22 -23.598299 -46.481705\n",
              "23 -23.449337 -46.663636\n",
              "24 -23.482284 -46.423410\n",
              "25 -23.505900 -46.531425\n",
              "26 -23.627159 -46.453241\n",
              "27 -23.824791 -46.733078\n",
              "28 -23.487464 -46.695132\n",
              "29 -23.594946 -46.545900\n",
              "30 -23.562770 -46.494333\n",
              "31 -23.487707 -46.584496\n",
              "32 -23.618271 -46.419028\n",
              "33 -23.523683 -46.543782\n",
              "34 -23.491674 -46.484070\n",
              "35 -23.579792 -46.769639\n",
              "36 -23.589190 -46.634653\n",
              "37 -23.502068 -46.624720\n",
              "38 -23.542308 -46.415605\n",
              "39 -23.615178 -46.643393\n",
              "40 -23.564091 -46.434767\n",
              "41 -23.513184 -46.589156\n",
              "42 -23.539221 -46.485265\n",
              "43 -23.457940 -46.641243\n",
              "44 -23.625687 -46.726989\n",
              "45 -23.536179 -46.524605\n",
              "46 -23.537930 -46.680671\n",
              "47 -23.591765 -46.780607\n",
              "48 -23.675548 -46.687226\n",
              "49 -23.584416 -46.581956\n",
              "50 -23.589273 -46.606162\n",
              "51 -23.511046 -46.487052\n",
              "52 -23.490554 -46.443666\n",
              "53 -23.578024 -46.511454\n",
              "54 -23.632301 -46.619563\n",
              "55 -23.463959 -46.582423\n",
              "56 -23.493763 -46.745581\n",
              "57 -23.599935 -46.739162\n",
              "58 -23.566876 -46.546323\n",
              "59 -23.480082 -46.603250\n",
              "60 -23.408492 -46.743632\n",
              "61 -23.503315 -46.675272\n",
              "62 -23.584381 -46.678444\n",
              "63 -23.565372 -46.573697\n",
              "64 -22.195211 -46.740504\n",
              "65 -23.505927 -46.656138\n",
              "66 -23.540891 -46.575009\n",
              "67 -23.597085 -46.662888\n",
              "68 -23.551530 -46.537791\n",
              "69 -23.578708 -46.458056\n",
              "70 -23.539094 -46.649028\n",
              "71 -23.560681 -46.597192\n",
              "72 -23.626731 -46.669421\n",
              "73 -23.565935 -46.703149\n",
              "74 -23.642515 -46.699890\n",
              "75 -23.521576 -46.704349\n",
              "76 -23.566703 -46.631809\n",
              "77 -23.562210 -46.647766\n",
              "78 -23.432908 -46.788534\n",
              "79 -23.517097 -46.607962\n",
              "80 -23.571900 -46.708090\n",
              "81 -23.557735 -46.660493\n",
              "82 -23.544023 -46.642640\n",
              "83 -23.542036 -46.749499\n",
              "84 -23.549906 -46.707642\n",
              "85 -23.684560 -46.711436\n",
              "86 -23.538476 -46.595039\n",
              "87 -23.622391 -46.702746\n",
              "88 -23.530072 -46.734319\n",
              "89 -23.566129 -46.613650\n",
              "90 -23.527138 -46.636835\n",
              "91 -23.545114 -46.616336\n",
              "92 -23.507446 -46.755315\n",
              "93 -23.550443 -46.633446\n",
              "94 -23.532976 -46.615849\n",
              "95 -23.525462 -46.667513\n",
              "96 -23.937142 -46.710230"
            ]
          },
          "metadata": {},
          "execution_count": 66
        }
      ]
    },
    {
      "cell_type": "markdown",
      "metadata": {
        "id": "8lvCg3zEHsW4"
      },
      "source": [
        "### <font color='gray'> seleção de múltiplas linhas </font>"
      ]
    },
    {
      "cell_type": "code",
      "metadata": {
        "scrolled": true,
        "colab": {
          "base_uri": "https://localhost:8080/",
          "height": 603
        },
        "id": "KwC6zj5JHsW4",
        "outputId": "04fd4386-7ae9-4bdc-e926-690b3a048a8b"
      },
      "source": [
        "dfBairros.loc[3:20]"
      ],
      "execution_count": 67,
      "outputs": [
        {
          "output_type": "execute_result",
          "data": {
            "text/html": [
              "<div>\n",
              "<style scoped>\n",
              "    .dataframe tbody tr th:only-of-type {\n",
              "        vertical-align: middle;\n",
              "    }\n",
              "\n",
              "    .dataframe tbody tr th {\n",
              "        vertical-align: top;\n",
              "    }\n",
              "\n",
              "    .dataframe thead th {\n",
              "        text-align: right;\n",
              "    }\n",
              "</style>\n",
              "<table border=\"1\" class=\"dataframe\">\n",
              "  <thead>\n",
              "    <tr style=\"text-align: right;\">\n",
              "      <th></th>\n",
              "      <th>Districts</th>\n",
              "      <th>Population</th>\n",
              "      <th>Longitude</th>\n",
              "      <th>Latitude</th>\n",
              "    </tr>\n",
              "  </thead>\n",
              "  <tbody>\n",
              "    <tr>\n",
              "      <th>3</th>\n",
              "      <td>Jardim Ângela</td>\n",
              "      <td>291.798</td>\n",
              "      <td>-46.771206</td>\n",
              "      <td>-23.712246</td>\n",
              "    </tr>\n",
              "    <tr>\n",
              "      <th>4</th>\n",
              "      <td>Brasilândia</td>\n",
              "      <td>280.069</td>\n",
              "      <td>-46.690269</td>\n",
              "      <td>-23.448272</td>\n",
              "    </tr>\n",
              "    <tr>\n",
              "      <th>5</th>\n",
              "      <td>Capão Redondo</td>\n",
              "      <td>275.230</td>\n",
              "      <td>-46.767753</td>\n",
              "      <td>-23.658859</td>\n",
              "    </tr>\n",
              "    <tr>\n",
              "      <th>6</th>\n",
              "      <td>Jardim São Luís</td>\n",
              "      <td>261.586</td>\n",
              "      <td>-46.737762</td>\n",
              "      <td>-23.683573</td>\n",
              "    </tr>\n",
              "    <tr>\n",
              "      <th>7</th>\n",
              "      <td>Cidade Ademar</td>\n",
              "      <td>248.215</td>\n",
              "      <td>-46.655281</td>\n",
              "      <td>-23.673012</td>\n",
              "    </tr>\n",
              "    <tr>\n",
              "      <th>8</th>\n",
              "      <td>Itaim Paulista</td>\n",
              "      <td>241.026</td>\n",
              "      <td>-46.399609</td>\n",
              "      <td>-23.501765</td>\n",
              "    </tr>\n",
              "    <tr>\n",
              "      <th>9</th>\n",
              "      <td>Sacomã</td>\n",
              "      <td>237.769</td>\n",
              "      <td>-46.602582</td>\n",
              "      <td>-23.601262</td>\n",
              "    </tr>\n",
              "    <tr>\n",
              "      <th>10</th>\n",
              "      <td>Jaraguá</td>\n",
              "      <td>220.292</td>\n",
              "      <td>-46.739512</td>\n",
              "      <td>-23.455682</td>\n",
              "    </tr>\n",
              "    <tr>\n",
              "      <th>11</th>\n",
              "      <td>Cidade Tiradentes</td>\n",
              "      <td>219.868</td>\n",
              "      <td>-46.409207</td>\n",
              "      <td>-23.582497</td>\n",
              "    </tr>\n",
              "    <tr>\n",
              "      <th>12</th>\n",
              "      <td>Campo Limpo</td>\n",
              "      <td>216.098</td>\n",
              "      <td>-46.758729</td>\n",
              "      <td>-23.648880</td>\n",
              "    </tr>\n",
              "    <tr>\n",
              "      <th>13</th>\n",
              "      <td>Jabaquara</td>\n",
              "      <td>212.504</td>\n",
              "      <td>-46.650037</td>\n",
              "      <td>-23.652066</td>\n",
              "    </tr>\n",
              "    <tr>\n",
              "      <th>14</th>\n",
              "      <td>Cidade Dutra</td>\n",
              "      <td>203.473</td>\n",
              "      <td>-46.699088</td>\n",
              "      <td>-23.713964</td>\n",
              "    </tr>\n",
              "    <tr>\n",
              "      <th>15</th>\n",
              "      <td>Itaquera</td>\n",
              "      <td>199.824</td>\n",
              "      <td>-46.455510</td>\n",
              "      <td>-23.536080</td>\n",
              "    </tr>\n",
              "    <tr>\n",
              "      <th>16</th>\n",
              "      <td>Tremembé</td>\n",
              "      <td>185.731</td>\n",
              "      <td>-45.547526</td>\n",
              "      <td>-22.957140</td>\n",
              "    </tr>\n",
              "    <tr>\n",
              "      <th>17</th>\n",
              "      <td>Lajeado</td>\n",
              "      <td>185.184</td>\n",
              "      <td>-46.410022</td>\n",
              "      <td>-23.536248</td>\n",
              "    </tr>\n",
              "    <tr>\n",
              "      <th>18</th>\n",
              "      <td>Vila Jacuí</td>\n",
              "      <td>167.965</td>\n",
              "      <td>-46.458717</td>\n",
              "      <td>-23.500294</td>\n",
              "    </tr>\n",
              "    <tr>\n",
              "      <th>19</th>\n",
              "      <td>Pirituba</td>\n",
              "      <td>163.696</td>\n",
              "      <td>-46.721939</td>\n",
              "      <td>-23.485533</td>\n",
              "    </tr>\n",
              "    <tr>\n",
              "      <th>20</th>\n",
              "      <td>Vila Curuçá</td>\n",
              "      <td>162.486</td>\n",
              "      <td>-46.417893</td>\n",
              "      <td>-23.510151</td>\n",
              "    </tr>\n",
              "  </tbody>\n",
              "</table>\n",
              "</div>"
            ],
            "text/plain": [
              "            Districts  Population  Longitude   Latitude\n",
              "3       Jardim Ângela     291.798 -46.771206 -23.712246\n",
              "4         Brasilândia     280.069 -46.690269 -23.448272\n",
              "5       Capão Redondo     275.230 -46.767753 -23.658859\n",
              "6     Jardim São Luís     261.586 -46.737762 -23.683573\n",
              "7       Cidade Ademar     248.215 -46.655281 -23.673012\n",
              "8      Itaim Paulista     241.026 -46.399609 -23.501765\n",
              "9              Sacomã     237.769 -46.602582 -23.601262\n",
              "10            Jaraguá     220.292 -46.739512 -23.455682\n",
              "11  Cidade Tiradentes     219.868 -46.409207 -23.582497\n",
              "12        Campo Limpo     216.098 -46.758729 -23.648880\n",
              "13          Jabaquara     212.504 -46.650037 -23.652066\n",
              "14       Cidade Dutra     203.473 -46.699088 -23.713964\n",
              "15           Itaquera     199.824 -46.455510 -23.536080\n",
              "16           Tremembé     185.731 -45.547526 -22.957140\n",
              "17            Lajeado     185.184 -46.410022 -23.536248\n",
              "18         Vila Jacuí     167.965 -46.458717 -23.500294\n",
              "19           Pirituba     163.696 -46.721939 -23.485533\n",
              "20        Vila Curuçá     162.486 -46.417893 -23.510151"
            ]
          },
          "metadata": {},
          "execution_count": 67
        }
      ]
    },
    {
      "cell_type": "markdown",
      "metadata": {
        "id": "RA11zC2wHsW4"
      },
      "source": [
        "### <font color='gray'> seleção por um critério de busca </font>"
      ]
    },
    {
      "cell_type": "code",
      "metadata": {
        "scrolled": true,
        "colab": {
          "base_uri": "https://localhost:8080/"
        },
        "id": "J6ZJYjgdHsW5",
        "outputId": "0460ca55-74c3-4aae-b030-496dabe7478d"
      },
      "source": [
        "dfBairros['Population']"
      ],
      "execution_count": 68,
      "outputs": [
        {
          "output_type": "execute_result",
          "data": {
            "text/plain": [
              "1     444.593\n",
              "2     296.042\n",
              "3     291.798\n",
              "4     280.069\n",
              "5     275.230\n",
              "6     261.586\n",
              "7     248.215\n",
              "8     241.026\n",
              "9     237.769\n",
              "10    220.292\n",
              "11    219.868\n",
              "12    216.098\n",
              "13    212.504\n",
              "14    203.473\n",
              "15    199.824\n",
              "16    185.731\n",
              "17    185.184\n",
              "18    167.965\n",
              "19    163.696\n",
              "20    162.486\n",
              "21    158.656\n",
              "22    158.533\n",
              "23    157.408\n",
              "24    153.634\n",
              "25    151.538\n",
              "26    151.017\n",
              "27    146.212\n",
              "28    138.101\n",
              "29    136.175\n",
              "30    130.255\n",
              "31    128.692\n",
              "32    126.645\n",
              "33    117.691\n",
              "34    116.632\n",
              "35    115.999\n",
              "36    112.952\n",
              "37    112.613\n",
              "38    111.325\n",
              "39    111.308\n",
              "40    108.366\n",
              "41    107.395\n",
              "42    104.864\n",
              "43    101.994\n",
              "44     99.274\n",
              "45     98.173\n",
              "46     97.706\n",
              "47     96.914\n",
              "48     96.756\n",
              "49     96.441\n",
              "50     94.787\n",
              "51     93.631\n",
              "52     93.187\n",
              "53     92.982\n",
              "54     92.895\n",
              "55     92.836\n",
              "56     90.777\n",
              "57     89.927\n",
              "58     89.510\n",
              "59     88.566\n",
              "60     85.002\n",
              "61     80.571\n",
              "62     80.501\n",
              "63     78.556\n",
              "64     76.033\n",
              "65     75.687\n",
              "66     75.481\n",
              "67     71.459\n",
              "68     71.363\n",
              "69     69.630\n",
              "70     63.689\n",
              "71     63.133\n",
              "72     62.530\n",
              "73     61.711\n",
              "74     60.373\n",
              "75     58.924\n",
              "76     57.860\n",
              "77     57.204\n",
              "78     53.266\n",
              "79     48.407\n",
              "80     48.040\n",
              "81     44.991\n",
              "82     42.802\n",
              "83     41.628\n",
              "84     39.477\n",
              "85     36.691\n",
              "86     36.283\n",
              "87     32.281\n",
              "88     30.188\n",
              "89     29.811\n",
              "90     28.591\n",
              "91     26.587\n",
              "92     24.114\n",
              "93     21.564\n",
              "94     16.144\n",
              "95     12.977\n",
              "96     10.180\n",
              "Name: Population, dtype: float64"
            ]
          },
          "metadata": {},
          "execution_count": 68
        }
      ]
    },
    {
      "cell_type": "markdown",
      "metadata": {
        "id": "H3oeu3WvHsW5"
      },
      "source": [
        "### <font color='gray'> ajustar coluna de população - tratar o ponto separador </font>"
      ]
    },
    {
      "cell_type": "code",
      "metadata": {
        "id": "o3CCOKI4HsW5"
      },
      "source": [
        "# converte dados de população para STRING\n",
        "dfBairros['Population'] = dfBairros['Population'].astype(str)"
      ],
      "execution_count": 74,
      "outputs": []
    },
    {
      "cell_type": "code",
      "metadata": {
        "id": "pSpBLuk6HsW6"
      },
      "source": [
        "# retira o ponto separador de cada registro\n",
        "dfBairros['Population'] = dfBairros['Population'].str.replace('.', '')"
      ],
      "execution_count": 75,
      "outputs": []
    },
    {
      "cell_type": "code",
      "metadata": {
        "colab": {
          "base_uri": "https://localhost:8080/"
        },
        "id": "piWrIObOHsW6",
        "outputId": "1a34848f-2c55-43e4-a06e-9d8b4c04c0fd"
      },
      "source": [
        "dfBairros['Population']"
      ],
      "execution_count": 76,
      "outputs": [
        {
          "output_type": "execute_result",
          "data": {
            "text/plain": [
              "1     444593\n",
              "2     296042\n",
              "3     291798\n",
              "4     280069\n",
              "5      27523\n",
              "6     261586\n",
              "7     248215\n",
              "8     241026\n",
              "9     237769\n",
              "10    220292\n",
              "11    219868\n",
              "12    216098\n",
              "13    212504\n",
              "14    203473\n",
              "15    199824\n",
              "16    185731\n",
              "17    185184\n",
              "18    167965\n",
              "19    163696\n",
              "20    162486\n",
              "21    158656\n",
              "22    158533\n",
              "23    157408\n",
              "24    153634\n",
              "25    151538\n",
              "26    151017\n",
              "27    146212\n",
              "28    138101\n",
              "29    136175\n",
              "30    130255\n",
              "31    128692\n",
              "32    126645\n",
              "33    117691\n",
              "34    116632\n",
              "35    115999\n",
              "36    112952\n",
              "37    112613\n",
              "38    111325\n",
              "39    111308\n",
              "40    108366\n",
              "41    107395\n",
              "42    104864\n",
              "43    101994\n",
              "44     99274\n",
              "45     98173\n",
              "46     97706\n",
              "47     96914\n",
              "48     96756\n",
              "49     96441\n",
              "50     94787\n",
              "51     93631\n",
              "52     93187\n",
              "53     92982\n",
              "54     92895\n",
              "55     92836\n",
              "56     90777\n",
              "57     89927\n",
              "58      8951\n",
              "59     88566\n",
              "60     85002\n",
              "61     80571\n",
              "62     80501\n",
              "63     78556\n",
              "64     76033\n",
              "65     75687\n",
              "66     75481\n",
              "67     71459\n",
              "68     71363\n",
              "69      6963\n",
              "70     63689\n",
              "71     63133\n",
              "72      6253\n",
              "73     61711\n",
              "74     60373\n",
              "75     58924\n",
              "76      5786\n",
              "77     57204\n",
              "78     53266\n",
              "79     48407\n",
              "80      4804\n",
              "81     44991\n",
              "82     42802\n",
              "83     41628\n",
              "84     39477\n",
              "85     36691\n",
              "86     36283\n",
              "87     32281\n",
              "88     30188\n",
              "89     29811\n",
              "90     28591\n",
              "91     26587\n",
              "92     24114\n",
              "93     21564\n",
              "94     16144\n",
              "95     12977\n",
              "96      1018\n",
              "Name: Population, dtype: object"
            ]
          },
          "metadata": {},
          "execution_count": 76
        }
      ]
    },
    {
      "cell_type": "code",
      "metadata": {
        "id": "dgu5sfznHsW6"
      },
      "source": [
        "# converte os dados para o tipo Inteiro\n",
        "dfBairros['Population'] = dfBairros['Population'].astype(int)"
      ],
      "execution_count": 77,
      "outputs": []
    },
    {
      "cell_type": "code",
      "metadata": {
        "scrolled": true,
        "colab": {
          "base_uri": "https://localhost:8080/"
        },
        "id": "G5HzBg7wHsW7",
        "outputId": "98142faf-9b76-4172-e082-529414e35836"
      },
      "source": [
        "# verificar como o dataframe ficou\n",
        "dfBairros.info()"
      ],
      "execution_count": 78,
      "outputs": [
        {
          "output_type": "stream",
          "name": "stdout",
          "text": [
            "<class 'pandas.core.frame.DataFrame'>\n",
            "Int64Index: 96 entries, 1 to 96\n",
            "Data columns (total 4 columns):\n",
            " #   Column      Non-Null Count  Dtype  \n",
            "---  ------      --------------  -----  \n",
            " 0   Districts   96 non-null     object \n",
            " 1   Population  96 non-null     int64  \n",
            " 2   Longitude   96 non-null     float64\n",
            " 3   Latitude    96 non-null     float64\n",
            "dtypes: float64(2), int64(1), object(1)\n",
            "memory usage: 6.2+ KB\n"
          ]
        }
      ]
    },
    {
      "cell_type": "markdown",
      "metadata": {
        "id": "lv4NyrDNHsW7"
      },
      "source": [
        "### <font color='gray'> busca dados utilizando a população como um critério de busca </font>"
      ]
    },
    {
      "cell_type": "code",
      "metadata": {
        "scrolled": true,
        "colab": {
          "base_uri": "https://localhost:8080/",
          "height": 819
        },
        "id": "Bufhn1uPHsW7",
        "outputId": "983d7b7b-afef-4afe-dcde-af161b8ae597"
      },
      "source": [
        "dfBairros.loc[dfBairros['Population'] > 150000]"
      ],
      "execution_count": 82,
      "outputs": [
        {
          "output_type": "execute_result",
          "data": {
            "text/html": [
              "<div>\n",
              "<style scoped>\n",
              "    .dataframe tbody tr th:only-of-type {\n",
              "        vertical-align: middle;\n",
              "    }\n",
              "\n",
              "    .dataframe tbody tr th {\n",
              "        vertical-align: top;\n",
              "    }\n",
              "\n",
              "    .dataframe thead th {\n",
              "        text-align: right;\n",
              "    }\n",
              "</style>\n",
              "<table border=\"1\" class=\"dataframe\">\n",
              "  <thead>\n",
              "    <tr style=\"text-align: right;\">\n",
              "      <th></th>\n",
              "      <th>Districts</th>\n",
              "      <th>Population</th>\n",
              "      <th>Longitude</th>\n",
              "      <th>Latitude</th>\n",
              "    </tr>\n",
              "  </thead>\n",
              "  <tbody>\n",
              "    <tr>\n",
              "      <th>1</th>\n",
              "      <td>Grajaú</td>\n",
              "      <td>444593</td>\n",
              "      <td>-46.665575</td>\n",
              "      <td>-23.785798</td>\n",
              "    </tr>\n",
              "    <tr>\n",
              "      <th>2</th>\n",
              "      <td>Sapopemba</td>\n",
              "      <td>296042</td>\n",
              "      <td>-46.509885</td>\n",
              "      <td>-23.604326</td>\n",
              "    </tr>\n",
              "    <tr>\n",
              "      <th>3</th>\n",
              "      <td>Jardim Ângela</td>\n",
              "      <td>291798</td>\n",
              "      <td>-46.771206</td>\n",
              "      <td>-23.712246</td>\n",
              "    </tr>\n",
              "    <tr>\n",
              "      <th>4</th>\n",
              "      <td>Brasilândia</td>\n",
              "      <td>280069</td>\n",
              "      <td>-46.690269</td>\n",
              "      <td>-23.448272</td>\n",
              "    </tr>\n",
              "    <tr>\n",
              "      <th>6</th>\n",
              "      <td>Jardim São Luís</td>\n",
              "      <td>261586</td>\n",
              "      <td>-46.737762</td>\n",
              "      <td>-23.683573</td>\n",
              "    </tr>\n",
              "    <tr>\n",
              "      <th>7</th>\n",
              "      <td>Cidade Ademar</td>\n",
              "      <td>248215</td>\n",
              "      <td>-46.655281</td>\n",
              "      <td>-23.673012</td>\n",
              "    </tr>\n",
              "    <tr>\n",
              "      <th>8</th>\n",
              "      <td>Itaim Paulista</td>\n",
              "      <td>241026</td>\n",
              "      <td>-46.399609</td>\n",
              "      <td>-23.501765</td>\n",
              "    </tr>\n",
              "    <tr>\n",
              "      <th>9</th>\n",
              "      <td>Sacomã</td>\n",
              "      <td>237769</td>\n",
              "      <td>-46.602582</td>\n",
              "      <td>-23.601262</td>\n",
              "    </tr>\n",
              "    <tr>\n",
              "      <th>10</th>\n",
              "      <td>Jaraguá</td>\n",
              "      <td>220292</td>\n",
              "      <td>-46.739512</td>\n",
              "      <td>-23.455682</td>\n",
              "    </tr>\n",
              "    <tr>\n",
              "      <th>11</th>\n",
              "      <td>Cidade Tiradentes</td>\n",
              "      <td>219868</td>\n",
              "      <td>-46.409207</td>\n",
              "      <td>-23.582497</td>\n",
              "    </tr>\n",
              "    <tr>\n",
              "      <th>12</th>\n",
              "      <td>Campo Limpo</td>\n",
              "      <td>216098</td>\n",
              "      <td>-46.758729</td>\n",
              "      <td>-23.648880</td>\n",
              "    </tr>\n",
              "    <tr>\n",
              "      <th>13</th>\n",
              "      <td>Jabaquara</td>\n",
              "      <td>212504</td>\n",
              "      <td>-46.650037</td>\n",
              "      <td>-23.652066</td>\n",
              "    </tr>\n",
              "    <tr>\n",
              "      <th>14</th>\n",
              "      <td>Cidade Dutra</td>\n",
              "      <td>203473</td>\n",
              "      <td>-46.699088</td>\n",
              "      <td>-23.713964</td>\n",
              "    </tr>\n",
              "    <tr>\n",
              "      <th>15</th>\n",
              "      <td>Itaquera</td>\n",
              "      <td>199824</td>\n",
              "      <td>-46.455510</td>\n",
              "      <td>-23.536080</td>\n",
              "    </tr>\n",
              "    <tr>\n",
              "      <th>16</th>\n",
              "      <td>Tremembé</td>\n",
              "      <td>185731</td>\n",
              "      <td>-45.547526</td>\n",
              "      <td>-22.957140</td>\n",
              "    </tr>\n",
              "    <tr>\n",
              "      <th>17</th>\n",
              "      <td>Lajeado</td>\n",
              "      <td>185184</td>\n",
              "      <td>-46.410022</td>\n",
              "      <td>-23.536248</td>\n",
              "    </tr>\n",
              "    <tr>\n",
              "      <th>18</th>\n",
              "      <td>Vila Jacuí</td>\n",
              "      <td>167965</td>\n",
              "      <td>-46.458717</td>\n",
              "      <td>-23.500294</td>\n",
              "    </tr>\n",
              "    <tr>\n",
              "      <th>19</th>\n",
              "      <td>Pirituba</td>\n",
              "      <td>163696</td>\n",
              "      <td>-46.721939</td>\n",
              "      <td>-23.485533</td>\n",
              "    </tr>\n",
              "    <tr>\n",
              "      <th>20</th>\n",
              "      <td>Vila Curuçá</td>\n",
              "      <td>162486</td>\n",
              "      <td>-46.417893</td>\n",
              "      <td>-23.510151</td>\n",
              "    </tr>\n",
              "    <tr>\n",
              "      <th>21</th>\n",
              "      <td>Pedreira</td>\n",
              "      <td>158656</td>\n",
              "      <td>-46.894846</td>\n",
              "      <td>-22.741347</td>\n",
              "    </tr>\n",
              "    <tr>\n",
              "      <th>22</th>\n",
              "      <td>São Mateus</td>\n",
              "      <td>158533</td>\n",
              "      <td>-46.481705</td>\n",
              "      <td>-23.598299</td>\n",
              "    </tr>\n",
              "    <tr>\n",
              "      <th>23</th>\n",
              "      <td>Cachoeirinha</td>\n",
              "      <td>157408</td>\n",
              "      <td>-46.663636</td>\n",
              "      <td>-23.449337</td>\n",
              "    </tr>\n",
              "    <tr>\n",
              "      <th>24</th>\n",
              "      <td>Jardim Helena</td>\n",
              "      <td>153634</td>\n",
              "      <td>-46.423410</td>\n",
              "      <td>-23.482284</td>\n",
              "    </tr>\n",
              "    <tr>\n",
              "      <th>25</th>\n",
              "      <td>Cangaíba</td>\n",
              "      <td>151538</td>\n",
              "      <td>-46.531425</td>\n",
              "      <td>-23.505900</td>\n",
              "    </tr>\n",
              "    <tr>\n",
              "      <th>26</th>\n",
              "      <td>São Rafael</td>\n",
              "      <td>151017</td>\n",
              "      <td>-46.453241</td>\n",
              "      <td>-23.627159</td>\n",
              "    </tr>\n",
              "  </tbody>\n",
              "</table>\n",
              "</div>"
            ],
            "text/plain": [
              "            Districts  Population  Longitude   Latitude\n",
              "1              Grajaú      444593 -46.665575 -23.785798\n",
              "2           Sapopemba      296042 -46.509885 -23.604326\n",
              "3       Jardim Ângela      291798 -46.771206 -23.712246\n",
              "4         Brasilândia      280069 -46.690269 -23.448272\n",
              "6     Jardim São Luís      261586 -46.737762 -23.683573\n",
              "7       Cidade Ademar      248215 -46.655281 -23.673012\n",
              "8      Itaim Paulista      241026 -46.399609 -23.501765\n",
              "9              Sacomã      237769 -46.602582 -23.601262\n",
              "10            Jaraguá      220292 -46.739512 -23.455682\n",
              "11  Cidade Tiradentes      219868 -46.409207 -23.582497\n",
              "12        Campo Limpo      216098 -46.758729 -23.648880\n",
              "13          Jabaquara      212504 -46.650037 -23.652066\n",
              "14       Cidade Dutra      203473 -46.699088 -23.713964\n",
              "15           Itaquera      199824 -46.455510 -23.536080\n",
              "16           Tremembé      185731 -45.547526 -22.957140\n",
              "17            Lajeado      185184 -46.410022 -23.536248\n",
              "18         Vila Jacuí      167965 -46.458717 -23.500294\n",
              "19           Pirituba      163696 -46.721939 -23.485533\n",
              "20        Vila Curuçá      162486 -46.417893 -23.510151\n",
              "21           Pedreira      158656 -46.894846 -22.741347\n",
              "22         São Mateus      158533 -46.481705 -23.598299\n",
              "23       Cachoeirinha      157408 -46.663636 -23.449337\n",
              "24      Jardim Helena      153634 -46.423410 -23.482284\n",
              "25           Cangaíba      151538 -46.531425 -23.505900\n",
              "26         São Rafael      151017 -46.453241 -23.627159"
            ]
          },
          "metadata": {},
          "execution_count": 82
        }
      ]
    },
    {
      "cell_type": "code",
      "metadata": {
        "colab": {
          "base_uri": "https://localhost:8080/",
          "height": 80
        },
        "id": "kuko5fv_HsW7",
        "outputId": "620ec610-c0ad-4c46-a05d-992d8876833b"
      },
      "source": [
        "# seleção através de um critério de busca - texto\n",
        "dfBairros.loc[dfBairros['Districts'] == 'Jabaquara']"
      ],
      "execution_count": 83,
      "outputs": [
        {
          "output_type": "execute_result",
          "data": {
            "text/html": [
              "<div>\n",
              "<style scoped>\n",
              "    .dataframe tbody tr th:only-of-type {\n",
              "        vertical-align: middle;\n",
              "    }\n",
              "\n",
              "    .dataframe tbody tr th {\n",
              "        vertical-align: top;\n",
              "    }\n",
              "\n",
              "    .dataframe thead th {\n",
              "        text-align: right;\n",
              "    }\n",
              "</style>\n",
              "<table border=\"1\" class=\"dataframe\">\n",
              "  <thead>\n",
              "    <tr style=\"text-align: right;\">\n",
              "      <th></th>\n",
              "      <th>Districts</th>\n",
              "      <th>Population</th>\n",
              "      <th>Longitude</th>\n",
              "      <th>Latitude</th>\n",
              "    </tr>\n",
              "  </thead>\n",
              "  <tbody>\n",
              "    <tr>\n",
              "      <th>13</th>\n",
              "      <td>Jabaquara</td>\n",
              "      <td>212504</td>\n",
              "      <td>-46.650037</td>\n",
              "      <td>-23.652066</td>\n",
              "    </tr>\n",
              "  </tbody>\n",
              "</table>\n",
              "</div>"
            ],
            "text/plain": [
              "    Districts  Population  Longitude   Latitude\n",
              "13  Jabaquara      212504 -46.650037 -23.652066"
            ]
          },
          "metadata": {},
          "execution_count": 83
        }
      ]
    },
    {
      "cell_type": "code",
      "metadata": {
        "colab": {
          "base_uri": "https://localhost:8080/",
          "height": 110
        },
        "id": "7zyJUTEpHsW8",
        "outputId": "ec005799-7759-4f43-dd63-d607760b191d"
      },
      "source": [
        "# utilização do OR '|' para trazer mais de um bairro \n",
        "dfBairros.loc[(dfBairros['Districts'] == 'Jabaquara') | (dfBairros['Districts'] == 'Grajaú')]"
      ],
      "execution_count": 84,
      "outputs": [
        {
          "output_type": "execute_result",
          "data": {
            "text/html": [
              "<div>\n",
              "<style scoped>\n",
              "    .dataframe tbody tr th:only-of-type {\n",
              "        vertical-align: middle;\n",
              "    }\n",
              "\n",
              "    .dataframe tbody tr th {\n",
              "        vertical-align: top;\n",
              "    }\n",
              "\n",
              "    .dataframe thead th {\n",
              "        text-align: right;\n",
              "    }\n",
              "</style>\n",
              "<table border=\"1\" class=\"dataframe\">\n",
              "  <thead>\n",
              "    <tr style=\"text-align: right;\">\n",
              "      <th></th>\n",
              "      <th>Districts</th>\n",
              "      <th>Population</th>\n",
              "      <th>Longitude</th>\n",
              "      <th>Latitude</th>\n",
              "    </tr>\n",
              "  </thead>\n",
              "  <tbody>\n",
              "    <tr>\n",
              "      <th>1</th>\n",
              "      <td>Grajaú</td>\n",
              "      <td>444593</td>\n",
              "      <td>-46.665575</td>\n",
              "      <td>-23.785798</td>\n",
              "    </tr>\n",
              "    <tr>\n",
              "      <th>13</th>\n",
              "      <td>Jabaquara</td>\n",
              "      <td>212504</td>\n",
              "      <td>-46.650037</td>\n",
              "      <td>-23.652066</td>\n",
              "    </tr>\n",
              "  </tbody>\n",
              "</table>\n",
              "</div>"
            ],
            "text/plain": [
              "    Districts  Population  Longitude   Latitude\n",
              "1      Grajaú      444593 -46.665575 -23.785798\n",
              "13  Jabaquara      212504 -46.650037 -23.652066"
            ]
          },
          "metadata": {},
          "execution_count": 84
        }
      ]
    }
  ]
}