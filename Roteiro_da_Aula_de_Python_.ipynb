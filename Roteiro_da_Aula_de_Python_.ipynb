{
  "nbformat": 4,
  "nbformat_minor": 0,
  "metadata": {
    "colab": {
      "name": "Roteiro da Aula de Python .ipynb",
      "provenance": [],
      "collapsed_sections": [],
      "authorship_tag": "ABX9TyN9c4sqINbB0T8Iemw9dp8n",
      "include_colab_link": true
    },
    "kernelspec": {
      "name": "python3",
      "display_name": "Python 3"
    },
    "language_info": {
      "name": "python"
    }
  },
  "cells": [
    {
      "cell_type": "markdown",
      "metadata": {
        "id": "view-in-github",
        "colab_type": "text"
      },
      "source": [
        "<a href=\"https://colab.research.google.com/github/ErisonBarros/bookpython_ufpe/blob/master/Roteiro_da_Aula_de_Python_.ipynb\" target=\"_parent\"><img src=\"https://colab.research.google.com/assets/colab-badge.svg\" alt=\"Open In Colab\"/></a>"
      ]
    },
    {
      "cell_type": "markdown",
      "metadata": {
        "id": "mDKPO96gmWUO"
      },
      "source": [
        "<table class=\"ee-notebook-buttons\" align=\"left\">\n",
        "    <td><a target=\"_blank\"  href=\"https://github.com/ErisonBarros/bookpython_ufpe/blob/master/09_csv_to_points.ipynb\"><img width=32px src=\"https://www.tensorflow.org/images/GitHub-Mark-32px.png\" /> View source on GitHub</a></td>\n",
        "    <td><a target=\"_blank\"  href=\"https://nbviewer.org/github/ErisonBarros/bookpython_ufpe/blob/master/09_csv_to_points.ipynb\"><img width=26px src=\"https://upload.wikimedia.org/wikipedia/commons/thumb/3/38/Jupyter_logo.svg/883px-Jupyter_logo.svg.png\" />Notebook Viewer</a></td>\n",
        "    <td><a target=\"_blank\"  href=\"https://nbviewer.org/github/ErisonBarros/bookpython_ufpe/blob/master/09_csv_to_points.ipynb\"><img src=\"https://www.tensorflow.org/images/colab_logo_32px.png\" /> Run in Google Colab</a></td>\n",
        "</table>"
      ]
    },
    {
      "cell_type": "markdown",
      "metadata": {
        "id": "AfTlrxtknaVu"
      },
      "source": [
        "# ROTEIRO DA AULA\n",
        "---"
      ]
    },
    {
      "cell_type": "markdown",
      "metadata": {
        "id": "2Gfxp-pM2re6"
      },
      "source": [
        "1. [Introdução ao Colab](https://colab.research.google.com/drive/1yrn1R2bSVDF7nZojHS8BDVsb4h1A2tNy)\n",
        "1. [Python para Engenehiros](https://colab.research.google.com/drive/1r9pbBWHkGcFOr2CAjr6bHtCKfdsflvTK)\n",
        "1. [Ler e abrir arquivo](https://colab.research.google.com/drive/1rPcpCJ6PZCCXGeBeS8GsAi4Dr_qO0ftd#scrollTo=h_-SJxmySHxU)\n",
        "1.   [Leitura de dados de Localização]( https://colab.research.google.com/drive/1mODq6_whQcd9I_S9Ko7LhMQDclyoTwvF)\n",
        "\n",
        "2. [Trabalhando com Geodataframe 1]( https://colab.research.google.com/drive/1mODq6_whQcd9I_S9Ko7LhMQDclyoTwvF)\n",
        "\n",
        "2. [Trabalhando com Geodataframe 2](https://colab.research.google.com/drive/1mNsxvWIgLDvSGsKKny0oHkU8c9qtIzTv)\n",
        "\n",
        "2. [Analise de Dados em Python](https://colab.research.google.com/drive/1McDQ7_IYla0eEnK_Wzf2pksnd2n1g9Rl)\n",
        "\n",
        "3. [Importar CSV](https://colab.research.google.com/drive/1MOc1jkxAlnQNSkFyYU1jLKlap6rWb2os?usp=sharing)\n",
        "\n",
        "2. [Tutorial do  Plotly](https://colab.research.google.com/drive/1lMnECgzBOstn-NZpBG92KbdZz8arUEce#scrollTo=LHqT3nLnp7nI )\n",
        "2. [Trabalhando com base de mapas]( https://colab.research.google.com/drive/17ROuFdBE2AlFGLoTdvrbWiesnVYIFOz4#scrollTo=soSkO7hj0KZz)\n",
        "2.    [Biblioteca leafmap]( https://colab.research.google.com/drive/1YQRZ28E82XPnKFVm7N0g6qO3UQzLmNti#scrollTo=oXLVx-O5rBNU)\n",
        "\n",
        "2.    [Linkar mapas](https://colab.research.google.com/drive/1BYnze2NMd3mW0fFBVHIxsf407WveGwWp?usp=sharing)\n",
        "\n",
        "2.    [Adding local vector data (e.g., shp, geojson, kml) to the map](https://colab.research.google.com/drive/1zJBTya7ZSZPK62-_Zwvj2LY1TuNZekdI?usp=sharing)\n",
        "\n",
        "3.  [Ler imagens]( https://colab.research.google.com/drive/1YQRZ28E82XPnKFVm7N0g6qO3UQzLmNti#scrollTo=oXLVx-O5rBNU)\n",
        "4. [Estrutura de Matrizes](https://colab.research.google.com/drive/1yhOOgDh0JY65uSngZ1fth0M3areB8kN0)\n",
        "5. [Dados Topográficos em Python](https://colab.research.google.com/drive/1BGwXKBPbTz8qtWwmQcW8D_AyZ_inJjRE)\n",
        "6. [Realtório Automatizados de Processamento](https://colab.research.google.com/drive/1BGwXKBPbTz8qtWwmQcW8D_AyZ_inJjRE)\n",
        "\n",
        "\n",
        "\n",
        "----\n",
        "\n"
      ]
    },
    {
      "cell_type": "markdown",
      "metadata": {
        "id": "4mvnEkXFeR57"
      },
      "source": [
        "# Bibliotecas\n",
        "\n",
        "[Bibliotecas](https://blog.gishub.org/python)\n",
        "\n"
      ]
    },
    {
      "cell_type": "markdown",
      "metadata": {
        "id": "TB2L8BcreNCc"
      },
      "source": [
        "# Exercício\n",
        "\n",
        "\n",
        "\n",
        "[Exerício](https://colab.research.google.com/drive/1uTOZsrc_-SlTm2o_tiB81fEneKcK-QxE?usp=sharing)\n"
      ]
    },
    {
      "cell_type": "code",
      "metadata": {
        "id": "Zbeg5pns2qq8"
      },
      "source": [
        ""
      ],
      "execution_count": null,
      "outputs": []
    }
  ]
}